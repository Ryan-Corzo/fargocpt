{
 "cells": [
  {
   "cell_type": "markdown",
   "id": "8c94c9a7-d32f-4905-8dae-74f48ee9f6a5",
   "metadata": {},
   "source": [
    "# FargoCPT Output Structure"
   ]
  },
  {
   "cell_type": "markdown",
   "id": "d8611221",
   "metadata": {},
   "source": [
    "This notebook introduces the structure of the simulation output directory and introduces a tool to investigate it.\n",
    "\n",
    "We will use the data from the simulation in the quickstart example, so make sure you ran this beforehand."
   ]
  },
  {
   "cell_type": "markdown",
   "id": "cffeff42",
   "metadata": {},
   "source": [
    "## The output directory structure"
   ]
  },
  {
   "cell_type": "markdown",
   "id": "b8754aaa",
   "metadata": {},
   "source": [
    "The following cell will stop the notebook if the simulation has not been run yet."
   ]
  },
  {
   "cell_type": "code",
   "execution_count": 1,
   "id": "8323a804",
   "metadata": {},
   "outputs": [
    {
     "name": "stdout",
     "output_type": "stream",
     "text": [
      "We are now in the directory /workspaces/fargocpt/examples/100_quickstart\n"
     ]
    }
   ],
   "source": [
    "import os\n",
    "example_name = \"100_quickstart\"\n",
    "if not os.path.basename(os.getcwd()) == example_name:\n",
    "    if os.path.exists(example_name):\n",
    "        os.chdir(example_name)\n",
    "        if not os.path.exists(\"output/out/snapshots/list.txt\"):\n",
    "            raise FileNotFoundError(f\"No snapshots found. Please run the simulation inside the 100_Quickstart.ipynb notebook first!\")\n",
    "    else:\n",
    "        raise FileNotFoundError(f\"Please go through the 100_Quickstart.ipynb notebook first!\")\n",
    "print(f\"We are now in the directory {os.getcwd()}\")"
   ]
  },
  {
   "cell_type": "markdown",
   "id": "54fd2efc",
   "metadata": {},
   "source": [
    "Now, let's have a look at how the output directory is structured."
   ]
  },
  {
   "cell_type": "code",
   "execution_count": 2,
   "id": "fc325bf4",
   "metadata": {},
   "outputs": [
    {
     "name": "stdout",
     "output_type": "stream",
     "text": [
      "Sigma1D.info\tfargocpt_output_v1_2  snapshots     vrad1D.info\n",
      "dimensions.dat\tmonitor\t\t      units.dat     vtheta1D.info\n",
      "energy1D.info\tparameters\t      used_rad.dat\n"
     ]
    }
   ],
   "source": [
    "!ls output/out"
   ]
  },
  {
   "cell_type": "markdown",
   "id": "bd345621",
   "metadata": {},
   "source": [
    "It contains some files describing general properties of the simulation, like \n",
    "- the version of the code (`fargocpt_output_v1_2`),\n",
    "- the dimensions of the grid (`dimensions.dat` and `used_rad.dat`),\n",
    "- the code units used (`units.dat`),\n",
    "- and information on 1D output files (`*1D.info`) used to load the corresponding binary files."
   ]
  },
  {
   "cell_type": "markdown",
   "id": "db447e30",
   "metadata": {},
   "source": [
    "There is also a `parameters` directory containing a copy of the setup file used for every start of the simulation.\n",
    "This way you can easily track how often and at which snapshots you restarted a long run.\n",
    "Here, we only have one copy."
   ]
  },
  {
   "cell_type": "code",
   "execution_count": 3,
   "id": "750469fd",
   "metadata": {},
   "outputs": [
    {
     "name": "stdout",
     "output_type": "stream",
     "text": [
      "setup.yml\n"
     ]
    }
   ],
   "source": [
    "!ls output/out/parameters"
   ]
  },
  {
   "cell_type": "markdown",
   "id": "d3998fe2",
   "metadata": {},
   "source": [
    "Next, there are snaphost directories, each containing a full snapshot of the system.\n",
    "Each of these directories can be used to restart the simulation or start a new one."
   ]
  },
  {
   "cell_type": "code",
   "execution_count": 4,
   "id": "0ddb13df",
   "metadata": {},
   "outputs": [
    {
     "name": "stdout",
     "output_type": "stream",
     "text": [
      "0    14  20  27  33  4\t 46  52  59  65  71  78  84  90  97\n",
      "1    15  21  28  34  40  47  53  6   66  72  79  85  91  98\n",
      "10   16  22  29  35  41  48  54  60  67  73  8\t 86  92  99\n",
      "100  17  23  3\t 36  42  49  55  61  68  74  80  87  93  damping\n",
      "11   18  24  30  37  43  5   56  62  69  75  81  88  94  list.txt\n",
      "12   19  25  31  38  44  50  57  63  7\t 76  82  89  95  timeSnapshot.dat\n",
      "13   2\t 26  32  39  45  51  58  64  70  77  83  9   96\n"
     ]
    }
   ],
   "source": [
    "!ls output/out/snapshots"
   ]
  },
  {
   "cell_type": "markdown",
   "id": "fd6fcb2a",
   "metadata": {},
   "source": [
    "The `damping` directory contains a copy of the initial data which is used in the code e.g. for damping to the initial density inside of damping zones close to the boundaries. Copy this aswell, if you want to restart a simulation from a snapshot.\n",
    "\n",
    "There is `timeSnapshot.dat` file which is a tab separated data file containing the time of the snapshot and the `list.txt` file which is simply a text file which has the number of each snapshot in a separate line. This is useful if you interact with the code using the command line. E.g."
   ]
  },
  {
   "cell_type": "code",
   "execution_count": 5,
   "id": "76d2f540",
   "metadata": {},
   "outputs": [
    {
     "name": "stdout",
     "output_type": "stream",
     "text": [
      "100\n"
     ]
    }
   ],
   "source": [
    "!tail -n 1 output/out/snapshots/list.txt"
   ]
  },
  {
   "cell_type": "markdown",
   "id": "e973bde4",
   "metadata": {},
   "source": [
    "is a clean way to get the number of the last snapshot.\n",
    "\n",
    "The `snapshots` directory contains \n",
    "- the state variables of the hydro simulation (density, energy and velocities), \n",
    "- 1D output files, \n",
    "- a binary file for each planet and the `rebound.bin` for the state of the integrator (this is used for binary exact restarting)\n",
    "- the `misc.bin` file which contains the state of the simulation system, e.g. the orientation of the coordinate system w.r.t. to an inertial frame and the last used CFL limited timestep,\n",
    "- and a copy of the setup at the time of this snapshot."
   ]
  },
  {
   "cell_type": "code",
   "execution_count": 6,
   "id": "2fbacc55",
   "metadata": {},
   "outputs": [
    {
     "name": "stdout",
     "output_type": "stream",
     "text": [
      "Sigma.dat    energy.dat    planet1.bin\tvrad.dat    vtheta1D.dat\n",
      "Sigma1D.dat  energy1D.dat  planet2.bin\tvrad1D.dat\n",
      "config.yml   misc.bin\t   rebound.bin\tvtheta.dat\n"
     ]
    }
   ],
   "source": [
    "!ls output/out/snapshots/0"
   ]
  },
  {
   "cell_type": "markdown",
   "id": "8a254cdc",
   "metadata": {},
   "source": [
    "Finally, there is the `monitor` directory which contains monitor variables. These scalar variables are computed from the system state during the simulation and are written more often than the full snapshots."
   ]
  },
  {
   "cell_type": "code",
   "execution_count": 7,
   "id": "e5e9e609",
   "metadata": {},
   "outputs": [
    {
     "name": "stdout",
     "output_type": "stream",
     "text": [
      "Quantities.dat\tplanet1.dat  planet2.dat  timeMonitor.dat  timestepLogging.dat\n"
     ]
    }
   ],
   "source": [
    "!ls output/out/monitor"
   ]
  },
  {
   "cell_type": "markdown",
   "id": "161c588f",
   "metadata": {},
   "source": [
    "All files have a header that describes the colums and the units of the variables. The header can be automatically parsed."
   ]
  },
  {
   "cell_type": "code",
   "execution_count": 8,
   "id": "c7cf1918",
   "metadata": {},
   "outputs": [
    {
     "name": "stdout",
     "output_type": "stream",
     "text": [
      "# Time log for course output.\n",
      "#version: 0.1\n",
      "#variable: 0 | time step | 1\n",
      "#variable: 1 | analysis time step | 1\n",
      "#variable: 2 | physical time | 5.0225669513368811e+06 s\n",
      "# One DT is 0.314000000000000001 (code) and 1577086.02271978068 (cgs).\n",
      "# Syntax: coarse output step <tab> fine output step <tab> physical time (code)\n",
      "0\t0\t0.0000000000000000e+00\n",
      "0\t1\t3.1400000000000000e-01\n",
      "0\t2\t6.2800000000000000e-01\n"
     ]
    }
   ],
   "source": [
    "!head output/out/monitor/timeMonitor.dat"
   ]
  },
  {
   "cell_type": "markdown",
   "id": "5fe44b46",
   "metadata": {},
   "source": [
    "- Each planet has its own file,\n",
    "- disk quantities, e.g. the total mass, are stored in `Quantities.dat`,\n",
    "- the output times of these fine grained monitor variables are stored in `timeMonitor.dat`, along with the corresponding snapshot number,\n",
    "- and information about the CFL timestep and the ellapsed walltime can be found in `timestepLogging.dat`."
   ]
  },
  {
   "cell_type": "markdown",
   "id": "170f227d",
   "metadata": {},
   "source": [
    "## Loading data"
   ]
  },
  {
   "cell_type": "markdown",
   "id": "4da1a1a7",
   "metadata": {},
   "source": [
    "Let's inspect the monitor quantities that Fargo outputs.\n",
    "Those are stored in the `monitor` directory within the output dir.\n",
    "\n",
    "We'll use the `inspect_tab_file.py` tool, which helps navigating the tab separated output files.\n",
    "\n",
    "Calling this tool with the `monitor/Quantities.dat` file, an overview of the available data is shown."
   ]
  },
  {
   "cell_type": "code",
   "execution_count": 9,
   "id": "b13ff158",
   "metadata": {},
   "outputs": [
    {
     "name": "stdout",
     "output_type": "stream",
     "text": [
      "Available variables:\n",
      " 0   time step\n",
      " 1   analysis time step\n",
      " 2   physical time\n",
      " 3   mass\n",
      " 4   radius\n",
      " 5   angular momentum\n",
      " 6   total energy\n",
      " 7   internal energy\n",
      " 8   kinematic energy\n",
      " 9   potential energy\n",
      "10   radial kinetic energy\n",
      "11   azimuthal kinetic energy\n",
      "12   eccentricity\n",
      "13   periastron\n",
      "14   viscous dissipation\n",
      "15   luminosity\n",
      "16   pdivv\n",
      "17   inner boundary mass inflow\n",
      "18   inner boundary mass outflow\n",
      "19   outer boundary mass inflow\n",
      "20   outer boundary mass outflow\n",
      "21   wave damping inner mass creation\n",
      "22   wave damping inner mass removal\n",
      "23   wave damping outer mass creation\n",
      "24   wave damping outer mass removal\n",
      "25   density floor mass creation\n",
      "26   aspect ratio\n",
      "27   indirect term nbody x\n",
      "28   indirect term nbody y\n",
      "29   indirect term disk x\n",
      "30   indirect term disk y\n",
      "31   frame angle\n",
      "32   disk eccentricity\n",
      "33   disk periastron\n",
      "34   advection torque\n",
      "35   viscous torque\n",
      "36   gravitational torque\n"
     ]
    }
   ],
   "source": [
    "!python3 ../../Tools/inspect_tab_file.py output/out/monitor/Quantities.dat"
   ]
  },
  {
   "cell_type": "code",
   "execution_count": 10,
   "id": "6d32a095",
   "metadata": {},
   "outputs": [
    {
     "name": "stdout",
     "output_type": "stream",
     "text": [
      "         0 kyr\t  0.000349 solMass\n",
      "     5e-05 kyr\t  0.000349 solMass\n",
      "  9.99e-05 kyr\t  0.000349 solMass\n",
      "   0.00015 kyr\t  0.000349 solMass\n",
      "    0.0002 kyr\t  0.000349 solMass\n",
      "   0.00025 kyr\t  0.000349 solMass\n",
      "    0.0003 kyr\t  0.000349 solMass\n",
      "   0.00035 kyr\t  0.000349 solMass\n",
      "    0.0004 kyr\t  0.000349 solMass\n",
      "   0.00045 kyr\t  0.000349 solMass\n"
     ]
    }
   ],
   "source": [
    "!python3 ../../Tools/inspect_tab_file.py output/out/monitor/Quantities.dat 2 3 --units kyr solMass | head"
   ]
  }
 ],
 "metadata": {
  "kernelspec": {
   "display_name": "Python 3 (ipykernel)",
   "language": "python",
   "name": "python3"
  },
  "language_info": {
   "codemirror_mode": {
    "name": "ipython",
    "version": 3
   },
   "file_extension": ".py",
   "mimetype": "text/x-python",
   "name": "python",
   "nbconvert_exporter": "python",
   "pygments_lexer": "ipython3",
   "version": "3.10.8"
  },
  "vscode": {
   "interpreter": {
    "hash": "916dbcbb3f70747c44a77c7bcd40155683ae19c65e1c03b4aa3499c5328201f1"
   }
  }
 },
 "nbformat": 4,
 "nbformat_minor": 5
}
