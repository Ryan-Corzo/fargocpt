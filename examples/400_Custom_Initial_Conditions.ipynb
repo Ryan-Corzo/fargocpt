{
 "cells": [
  {
   "cell_type": "markdown",
   "id": "8c94c9a7-d32f-4905-8dae-74f48ee9f6a5",
   "metadata": {},
   "source": [
    "# Custom gas distribution\n",
    "\n",
    "This notebook will teach you how to set up a custom gas distribution as initial conditions."
   ]
  },
  {
   "cell_type": "markdown",
   "id": "151247ed",
   "metadata": {},
   "source": [
    "First we create a new directory and change to it."
   ]
  },
  {
   "cell_type": "code",
   "execution_count": 5,
   "id": "d9d57a01-1eb0-416b-bc36-a988a2049032",
   "metadata": {},
   "outputs": [
    {
     "name": "stdout",
     "output_type": "stream",
     "text": [
      "We are in /home/rometsch/repo/fargocpt/examples/400_custom_gas_init\n"
     ]
    }
   ],
   "source": [
    "example_name = \"400_custom_gas_init\"\n",
    "import os\n",
    "if not os.path.basename(os.getcwd()) == example_name:\n",
    "    !mkdir -p $example_name\n",
    "    os.chdir(example_name)\n",
    "print(\"We are in \" + os.getcwd())"
   ]
  },
  {
   "cell_type": "markdown",
   "id": "9ee685bc-d8b6-4cbc-9542-cbc6815ebb5c",
   "metadata": {},
   "source": [
    "## Make the code"
   ]
  },
  {
   "cell_type": "markdown",
   "id": "40f50bdd-bbeb-4328-9d4e-17c6810b070f",
   "metadata": {},
   "source": [
    "Make sure the code is built by running make again.\n",
    "\n",
    "If you have not yet compiled the go, please go to the readme and follow the instructions there.\n",
    "You can also try to run the following cell directly, but it will only output error messages. This might make debugging harder."
   ]
  },
  {
   "cell_type": "code",
   "execution_count": 6,
   "id": "a2260ebe-cbb8-40f9-a142-03fd4cea90fa",
   "metadata": {
    "tags": []
   },
   "outputs": [
    {
     "name": "stdout",
     "output_type": "stream",
     "text": [
      "118 ms ± 0 ns per loop (mean ± std. dev. of 1 run, 1 loop each)\n"
     ]
    }
   ],
   "source": [
    "%%timeit -n1 -r1\n",
    "from sys import platform\n",
    "if platform in [\"linux\", \"darwin\"]:\n",
    "    !make -j 4 -C ../../src > make.log\n",
    "else:\n",
    "    raise RuntimeError(f\"Seems like you are not running MacOS or Linux but {platform}. This is unsupported. You are on your own, good luck!\")"
   ]
  },
  {
   "cell_type": "markdown",
   "id": "3ecdb48e-e0e7-43e7-abb1-1ff7671a33ee",
   "metadata": {},
   "source": [
    "## Preparing a setup file\n",
    "\n",
    "We'll take the example setup file from the examples directory and modify it in python.\n",
    "If you want to create setup files for a parameter study, just copy the code and make your own setup creator script."
   ]
  },
  {
   "cell_type": "code",
   "execution_count": 7,
   "id": "1030f0f2",
   "metadata": {},
   "outputs": [],
   "source": [
    "configfile = \"setup.yml\"\n",
    "!cp ../config.yml $configfile"
   ]
  },
  {
   "cell_type": "markdown",
   "id": "6e314064",
   "metadata": {},
   "source": [
    "We'll use the `ruamel.yaml` package to read and write the setup file. This can be set up to preserve comments which is very useful if you want to trace your decisions later on."
   ]
  },
  {
   "cell_type": "code",
   "execution_count": 8,
   "id": "b855448e",
   "metadata": {},
   "outputs": [],
   "source": [
    "try:\n",
    "    import ruamel.yaml\n",
    "except ImportError:\n",
    "    raise ImportError(\"Please install ruamel.yaml with `python3 -m pip install ruamel.yaml`\")\n",
    "yamlloader = ruamel.yaml.YAML()\n",
    "with open(configfile, \"r\") as infile:\n",
    "    config = yamlloader.load(infile)"
   ]
  },
  {
   "cell_type": "code",
   "execution_count": 9,
   "id": "b855448e",
   "metadata": {},
   "outputs": [],
   "source": [
    "config[\"DT\"] = 0.314 # monitor scalar files around every half orbit\n",
    "config[\"Ninterm\"] = 20 # write a snapshot every orbit\n",
    "config[\"Ntot\"] = 10 # wirte 100 snapshots\n",
    "# use very low resolution by setting it to 2 cell per scaleheight, cps\n",
    "try:\n",
    "    del config[\"Nrad\"]\n",
    "except KeyError:\n",
    "    pass\n",
    "try:\n",
    "    del config[\"Nsec\"]\n",
    "except KeyError:\n",
    "    pass\n",
    "\n",
    "config[\"cps\"] = 2\n",
    "\n",
    "with open(configfile, \"w\") as outfile:\n",
    "    yamlloader.dump(config, outfile)"
   ]
  },
  {
   "cell_type": "markdown",
   "id": "9847493f-e6e7-42ab-842e-5141ef11ba33",
   "metadata": {},
   "source": [
    "## Getting a data skeleton\n",
    "\n",
    "The next step is to run the code for zero timesteps.\n",
    "This creates the zeroth and reference snapshots, which we can then modify to our liking."
   ]
  },
  {
   "cell_type": "code",
   "execution_count": 10,
   "id": "d5155054",
   "metadata": {},
   "outputs": [],
   "source": [
    "import sys\n",
    "sys.path.append(\"../../bin\")\n",
    "from fargocpt import run_fargo"
   ]
  },
  {
   "cell_type": "code",
   "execution_count": 11,
   "id": "4fa175f9",
   "metadata": {},
   "outputs": [
    {
     "name": "stdout",
     "output_type": "stream",
     "text": [
      "Running command: mpirun -np 1 --report-pid /tmp/tmpo0xg8w3c -x OMP_NUM_THREADS=1 /home/rometsch/repo/fargocpt/bin/fargocpt start -N 0 setup.yml\n",
      "fargo process pid 727062\n",
      "\n"
     ]
    }
   ],
   "source": [
    "run_fargo(1, 1, [\"start\", \"-N\", \"0\", configfile])"
   ]
  },
  {
   "cell_type": "markdown",
   "id": "a643def2",
   "metadata": {},
   "source": [
    "## Defining helper functions and classes"
   ]
  },
  {
   "cell_type": "code",
   "execution_count": 20,
   "id": "922d75d0",
   "metadata": {},
   "outputs": [],
   "source": [
    "import numpy as np\n",
    "from dataclasses import dataclass\n",
    "from types import SimpleNamespace\n",
    "import astropy.units as u\n",
    "@dataclass\n",
    "class FargoCPTField:\n",
    "    outputdir: str\n",
    "    snapshotid: str\n",
    "    name: str\n",
    "\n",
    "    def __post_init__(self):\n",
    "        self.filename = f\"{self.outputdir}/snapshots/{self.snapshotid}/{self.name}.dat\"\n",
    "        self.grid = get_fargo_grid(self.outputdir)\n",
    "        if self.name == \"vrad\":\n",
    "            self.R, self.Phi = np.meshgrid(self.grid.ri, self.grid.phic, indexing=\"ij\")\n",
    "        elif self.name == \"vtheta\":\n",
    "            self.R, self.Phi = np.meshgrid(self.grid.rc, self.grid.phii[:-1], indexing=\"ij\")\n",
    "        else:\n",
    "            self.R, self.Phi = np.meshgrid(self.grid.rc, self.grid.phic, indexing=\"ij\")\n",
    "        self._load()\n",
    "\n",
    "    def _load(self):\n",
    "        self._data = np.fromfile(self.filename, dtype=np.float64)\n",
    "        self._data = self._data.reshape(self.R.shape[0], self.R.shape[1])\n",
    "\n",
    "    def save(self, altid=None):\n",
    "        if altid is not None:\n",
    "            filename = f\"{self.outputdir}/snapshots/{altid}/{self.name}.dat\"\n",
    "        self._data.tofile(self.filename)\n",
    "\n",
    "    @property\n",
    "    def array(self):\n",
    "        return self._data\n",
    "\n",
    "    @array.setter\n",
    "    def array(self, data):\n",
    "        if not self._data.shape == data.shape:\n",
    "            raise ValueError(\"Shape of data does not match shape of field\")\n",
    "        self._data = data\n",
    "\n",
    "\n",
    "def get_fargo_grid(outputdir):\n",
    "\n",
    "    Nrad, Naz = np.genfromtxt(f\"{outputdir}/dimensions.dat\", usecols=(4,5), dtype=int, unpack=True)\n",
    "\n",
    "    ri = np.genfromtxt(f\"{outputdir}/used_rad.dat\")\n",
    "    phii = np.linspace(0, 2*np.pi, Naz+1)\n",
    "    Ri, Phii = np.meshgrid(ri, phii, indexing=\"ij\")\n",
    "    Xi = Ri*np.cos(Phii)\n",
    "    Yi = Ri*np.sin(Phii)\n",
    "\n",
    "    rc = 2/3*(ri[1:]**2/(ri[1:]+ri[:-1]) + ri[:-1]) # approx center in polar coords\n",
    "    phic = 0.5*(phii[1:]+phii[:-1])\n",
    "    Rc, Phic = np.meshgrid(rc, phic, indexing=\"ij\")\n",
    "    Xc = Rc*np.cos(Phic)\n",
    "    Yc = Rc*np.sin(Phic)\n",
    "\n",
    "    dphi = phii[1] - phii[0]\n",
    "    dr = ri[1:] - ri[:-1]\n",
    "    A = 0.5*(Ri[1:,1:]**2 - Ri[:-1,1:]**2)*dphi\n",
    "\n",
    "    return SimpleNamespace(\n",
    "        Nrad=Nrad, Naz=Naz,\n",
    "        ri=ri, phii=phii, Ri=Ri, Phii=Phii, Xi=Xi, Yi=Yi,\n",
    "        rc=rc, phic=phic, Rc=Rc, Phic=Phic, Xc=Xc, Yc=Yc, \n",
    "        dphi=dphi, dr=dr, A=A\n",
    "    )\n",
    "\n",
    "def get_fargo_powerlaw_disk(config: dict):\n",
    "\n",
    "    l0 = u.Unit(config[\"l0\"])\n",
    "    m0 = u.Unit(config[\"m0\"])\n",
    "    t0 = u.Unit(config[\"t0\"])\n",
    "    Temp0 = u.Unit(config[\"Temp0\"])\n",
    "\n",
    "    Mstar = u.Quantity(config[\"nbody\"][0][\"mass\"]).to(m0)\n",
    "    GM = (const.G * Mstar).to(l0**3/t0**2).value\n",
    "    Rgas = (const.k_B / const.m_p).to(l0**2/t0**2/Temp0).value\n",
    "    mu = config[\"mu\"]\n",
    "    r0 = 1\n",
    "    Sigma0 = u.Quantity(config[\"Sigma0\"])\n",
    "    if not Sigma0.unit.is_unity():\n",
    "        Sigma0 = Sigma0.to_value(m0/l0**2)\n",
    "    betaSigma = -float(config[\"SigmaSlope\"])\n",
    "    if config[\"EquationOfState\"][:3] == \"iso\":\n",
    "        gamma = 1\n",
    "    else:\n",
    "        gamma = float(config[\"AdiabaticIndex\"])\n",
    "    h0 = float(config[\"AspectRatio\"])\n",
    "    betah = float(config[\"FlaringIndex\"])\n",
    "\n",
    "    return PowerlawDisk(GM, Rgas, mu, r0, Sigma0, betaSigma, gamma, h0=h0, betah=betah)\n",
    "\n",
    "def get_fargo_units(outdir: str) -> dict:\n",
    "    with open(f\"{outdir}/units.yml\", \"r\") as f:\n",
    "        units_info = yaml.safe_load(f)\n",
    "    units = {}\n",
    "    for key, val in units_info.items():\n",
    "        units[key] = u.Unit(f\"{val['cgs value']} {val['cgs symbol']}\")\n",
    "    return units\n",
    "\n",
    "def get_fargo_powerlaw_disk_output(outdir: str):\n",
    "\n",
    "    config = get_fargo_config(f\"{outdir}/snapshots/0/config.yml\")\n",
    "    units = get_fargo_units(outdir)\n",
    "\n",
    "    l0 = units[\"length\"]\n",
    "    m0 = units[\"mass\"]\n",
    "    t0 = units[\"time\"]\n",
    "    Temp0 = units[\"temperature\"]\n",
    "\n",
    "    Mstar = u.Quantity(config[\"nbody\"][0][\"mass\"]).to(m0)\n",
    "    GM = (const.G * Mstar).to(l0**3/t0**2).value\n",
    "    Rgas = (const.k_B / const.m_p).to(l0**2/t0**2/Temp0).value\n",
    "    mu = config[\"mu\"]\n",
    "    r0 = 1\n",
    "    Sigma0 = u.Quantity(config[\"Sigma0\"])\n",
    "    if not Sigma0.unit.is_unity():\n",
    "        Sigma0 = Sigma0.to_value(m0/l0**2)\n",
    "    betaSigma = -float(config[\"SigmaSlope\"])\n",
    "    if config[\"EquationOfState\"][:3] == \"iso\":\n",
    "        gamma = 1\n",
    "    else:\n",
    "        gamma = float(config[\"AdiabaticIndex\"])\n",
    "    h0 = float(config[\"AspectRatio\"])\n",
    "    betah = float(config[\"FlaringIndex\"])\n",
    "\n",
    "    return PowerlawDisk(GM, Rgas, mu, r0, Sigma0, betaSigma, gamma, h0=h0, betah=betah)\n",
    "\n",
    "import yaml\n",
    "def get_fargo_config(filename):\n",
    "    with open(filename, \"r\") as f:\n",
    "        config = yaml.safe_load(f)\n",
    "    return config\n",
    "\n",
    "\n",
    "@dataclass\n",
    "class PowerlawDisk:\n",
    "    \"\"\"\n",
    "    Powerlaw disk model\n",
    "\n",
    "    Scaleheight is defined with the isothermal sound speed, so H = c_s/sqrt(gamma) / Omega_K\n",
    "\n",
    "    Parameters\n",
    "    ----------\n",
    "    GM : float\n",
    "        Product of the gravitational constant and the central mass\n",
    "    Rgas : float\n",
    "        Gas constant to link c_s and T through the ideal gas law. c_s = sqrt(gamma Rg/mu T). It's Rgas = kB/mH. kB = Boltzman constant. mH = mass of a hydrogen atom.\n",
    "    mu : float\n",
    "        Mean molecular weight\n",
    "    r0 : float\n",
    "        Reference radius\n",
    "    Sigma0 : float\n",
    "        Surface density at r0\n",
    "    betaSigma : float\n",
    "        Surface density powerlaw exponent\n",
    "    T0 : float\n",
    "        Temperature at r0\n",
    "    betaT : float\n",
    "        Temperature powerlaw exponent\n",
    "    gamma : float\n",
    "        Adiabatic index\n",
    "    betaOmega : float (optional)\n",
    "        Disk angular velocity powerlaw . Defaults to -3/2 for a Keplerian disk.\n",
    "    \"\"\"\n",
    "    GM: float\n",
    "    Rgas: float\n",
    "    mu: float\n",
    "    r0: float\n",
    "    Sigma0: float\n",
    "    betaSigma: float\n",
    "    gamma: float\n",
    "    T0: float = None\n",
    "    betaT: float = None\n",
    "    h0: float = None\n",
    "    betah: float = None\n",
    "    betaOmega: float = -3/2\n",
    "\n",
    "    def __post_init__(self):\n",
    "        \"\"\"\n",
    "        Set derived parameters\n",
    "        \"\"\"\n",
    "        self.OmegaK0 = np.sqrt(self.GM/self.r0**3)\n",
    "        is_T_set = self.T0 is not None\n",
    "        is_h_set = self.h0 is not None\n",
    "        if not (is_T_set or is_h_set):\n",
    "            raise ValueError(\"Either T0 or h0 must be set.\")\n",
    "        elif is_T_set and is_h_set:\n",
    "            raise ValueError(\"Either T0 or h0 must be set, not both.\")\n",
    "        elif is_T_set:\n",
    "            self.cs0 = np.sqrt(self.gamma*self.Rgas/self.mu*self.T0)\n",
    "            self.h0 = self.cs0 / np.sqrt(self.gamma) / self.OmegaK0\n",
    "        else:\n",
    "            self.cs0 = self.h0 * np.sqrt(self.gamma) * self.OmegaK0\n",
    "            self.T0 = self.mu/self.Rgas * self.cs0**2 / self.gamma\n",
    "\n",
    "        is_betaT_set = self.betaT is not None\n",
    "        is_betah_set = self.betah is not None\n",
    "        if not (is_betaT_set or is_betah_set):\n",
    "            raise ValueError(\"Either betaT or betah must be set.\")\n",
    "        elif is_betaT_set and is_betah_set:\n",
    "            raise ValueError(\"Either betaT or betah must be set, not both.\")\n",
    "        elif is_betaT_set:\n",
    "            self.betacs = self.betaT/2\n",
    "            self.betah = self.betaT/2 + 1/2\n",
    "        else:\n",
    "            self.betaT = 2*self.betah - 1\n",
    "            self.betacs = self.betaT/2\n",
    "\n",
    "        self.betaP = self.betaSigma + self.betaT\n",
    "        self.P0 = self.Sigma0 * self.cs0**2\n",
    "\n",
    "    def cs(self, r: np.ndarray):\n",
    "        return self.cs0 * (r/self.r0)**self.betacs\n",
    "\n",
    "    def h(self, r: np.ndarray):\n",
    "        return self.h0 * (r/self.r0)**self.betah\n",
    "\n",
    "    def Sigma(self, r):\n",
    "        return self.Sigma0 * (r/self.r0)**self.betaSigma\n",
    "\n",
    "    def T(self, r: np.ndarray):\n",
    "        return self.T0 * (r/self.r0)**self.betaT\n",
    "    \n",
    "    def P(self, r: np.ndarray):\n",
    "        return self.P0 * (r/self.r0)**self.betaP\n",
    "\n",
    "    def OmegaK(self, r: np.ndarray):\n",
    "        return self.OmegaK0 * (r/self.r0)**self.betaOmega\n",
    "\n",
    "    def Omega(self, r: np.ndarray):\n",
    "        \"\"\"\n",
    "        Compute the background disk angular velocity profile.\n",
    "\n",
    "        Use a modification of SB15 Eq. (12) which uses the disk aspect ratio h.\n",
    "        Omega_0(r) = Omega_K(r) * sqrt{1 + beta_p * h^2}.\n",
    "\n",
    "        Parameters\n",
    "        ----------\n",
    "        r : np.ndarray\n",
    "            Radial positions\n",
    "\n",
    "        Returns\n",
    "        -------\n",
    "        np.ndarray\n",
    "        \"\"\"\n",
    "        return self.OmegaK(r) * np.sqrt(1 + self.betaP * self.h(r)**2)\n",
    "\n",
    "\n",
    "    def plot(self, r: np.ndarray):\n",
    "        \"\"\"\n",
    "        Plot an overview of the disks powerlaws.\n",
    "        \"\"\"\n",
    "        mosaic_defs = [\n",
    "            [\"Sigma\", \"P\", \"T\"],\n",
    "            [\"cs\", \"h\", \"Omega\"]\n",
    "        ]\n",
    "        import matplotlib.pyplot as plt\n",
    "        fig, axd = plt.subplot_mosaic(mosaic_defs, dpi=150, figsize=(12, 8))\n",
    "\n",
    "        axd[\"Sigma\"].plot(r, self.Sigma(r))\n",
    "        axd[\"Sigma\"].set_title(\"Sigma\")\n",
    "        axd[\"Sigma\"].set_xlabel(\"r\")\n",
    "        axd[\"Sigma\"].set_ylabel(\"Sigma\")\n",
    "\n",
    "        axd[\"P\"].plot(r, self.P(r))\n",
    "        axd[\"P\"].set_title(\"P\")\n",
    "        axd[\"P\"].set_xlabel(\"r\")\n",
    "        axd[\"P\"].set_ylabel(\"P\")\n",
    "\n",
    "        axd[\"T\"].plot(r, self.T(r))\n",
    "        axd[\"T\"].set_title(\"T\")\n",
    "        axd[\"T\"].set_xlabel(\"r\")\n",
    "        axd[\"T\"].set_ylabel(\"T\")\n",
    "        axd[\"T\"].set_xscale(\"log\")\n",
    "        axd[\"T\"].set_yscale(\"log\")\n",
    "\n",
    "        axd[\"cs\"].plot(r, self.cs(r))\n",
    "        axd[\"cs\"].set_title(\"cs\")\n",
    "        axd[\"cs\"].set_xlabel(\"r\")\n",
    "        axd[\"cs\"].set_ylabel(\"cs\")\n",
    "\n",
    "\n",
    "        axd[\"h\"].plot(r, self.h(r))\n",
    "        axd[\"h\"].set_title(\"h\")\n",
    "        axd[\"h\"].set_xlabel(\"r\")\n",
    "        axd[\"h\"].set_ylabel(\"h\")\n",
    "\n",
    "        axd[\"Omega\"].plot(r, self.Omega(r))\n",
    "        axd[\"Omega\"].set_title(\"Omega\")\n",
    "        axd[\"Omega\"].set_xlabel(\"r\")\n",
    "        axd[\"Omega\"].set_ylabel(\"Omega\")\n",
    "\n",
    "        for key, ax in axd.items():\n",
    "            ax.set_xscale(\"log\")\n",
    "            ax.set_yscale(\"log\")\n",
    "            ax.grid(which=\"minor\", alpha=0.5,)\n",
    "\n",
    "        fig.tight_layout()\n",
    "\n",
    "        return fig, axd\n"
   ]
  },
  {
   "cell_type": "markdown",
   "id": "6a45784c",
   "metadata": {},
   "source": [
    "## Modify the initial conditions\n",
    "\n",
    "To modify the data, we first define a helper class to handle the data files."
   ]
  },
  {
   "cell_type": "code",
   "execution_count": 21,
   "id": "a7cb4c04",
   "metadata": {},
   "outputs": [
    {
     "ename": "MemoryError",
     "evalue": "",
     "output_type": "error",
     "traceback": [
      "\u001b[0;31m---------------------------------------------------------------------------\u001b[0m",
      "\u001b[0;31mMemoryError\u001b[0m                               Traceback (most recent call last)",
      "\u001b[1;32m/home/rometsch/repo/fargocpt/examples/400_Custom_Gas_Init.ipynb Cell 18\u001b[0m line \u001b[0;36m3\n\u001b[1;32m      <a href='vscode-notebook-cell://ssh-remote%2Bkamino/home/rometsch/repo/fargocpt/examples/400_Custom_Gas_Init.ipynb#X55sdnNjb2RlLXJlbW90ZQ%3D%3D?line=0'>1</a>\u001b[0m config \u001b[39m=\u001b[39m get_fargo_config(configfile)\n\u001b[1;32m      <a href='vscode-notebook-cell://ssh-remote%2Bkamino/home/rometsch/repo/fargocpt/examples/400_Custom_Gas_Init.ipynb#X55sdnNjb2RlLXJlbW90ZQ%3D%3D?line=1'>2</a>\u001b[0m outdir \u001b[39m=\u001b[39m \u001b[39m\"\u001b[39m\u001b[39moutput/out\u001b[39m\u001b[39m\"\u001b[39m\n\u001b[0;32m----> <a href='vscode-notebook-cell://ssh-remote%2Bkamino/home/rometsch/repo/fargocpt/examples/400_Custom_Gas_Init.ipynb#X55sdnNjb2RlLXJlbW90ZQ%3D%3D?line=2'>3</a>\u001b[0m disk \u001b[39m=\u001b[39m get_fargo_powerlaw_disk_output(outdir)\n",
      "\u001b[1;32m/home/rometsch/repo/fargocpt/examples/400_Custom_Gas_Init.ipynb Cell 18\u001b[0m line \u001b[0;36m1\n\u001b[1;32m    <a href='vscode-notebook-cell://ssh-remote%2Bkamino/home/rometsch/repo/fargocpt/examples/400_Custom_Gas_Init.ipynb#X55sdnNjb2RlLXJlbW90ZQ%3D%3D?line=101'>102</a>\u001b[0m \u001b[39mdef\u001b[39;00m \u001b[39mget_fargo_powerlaw_disk_output\u001b[39m(outdir: \u001b[39mstr\u001b[39m):\n\u001b[1;32m    <a href='vscode-notebook-cell://ssh-remote%2Bkamino/home/rometsch/repo/fargocpt/examples/400_Custom_Gas_Init.ipynb#X55sdnNjb2RlLXJlbW90ZQ%3D%3D?line=103'>104</a>\u001b[0m     config \u001b[39m=\u001b[39m get_fargo_config(\u001b[39mf\u001b[39m\u001b[39m\"\u001b[39m\u001b[39m{\u001b[39;00moutdir\u001b[39m}\u001b[39;00m\u001b[39m/snapshots/0/config.yml\u001b[39m\u001b[39m\"\u001b[39m)\n\u001b[0;32m--> <a href='vscode-notebook-cell://ssh-remote%2Bkamino/home/rometsch/repo/fargocpt/examples/400_Custom_Gas_Init.ipynb#X55sdnNjb2RlLXJlbW90ZQ%3D%3D?line=104'>105</a>\u001b[0m     units \u001b[39m=\u001b[39m get_fargo_units(outdir)\n\u001b[1;32m    <a href='vscode-notebook-cell://ssh-remote%2Bkamino/home/rometsch/repo/fargocpt/examples/400_Custom_Gas_Init.ipynb#X55sdnNjb2RlLXJlbW90ZQ%3D%3D?line=106'>107</a>\u001b[0m     l0 \u001b[39m=\u001b[39m units[\u001b[39m\"\u001b[39m\u001b[39mlength\u001b[39m\u001b[39m\"\u001b[39m]\n\u001b[1;32m    <a href='vscode-notebook-cell://ssh-remote%2Bkamino/home/rometsch/repo/fargocpt/examples/400_Custom_Gas_Init.ipynb#X55sdnNjb2RlLXJlbW90ZQ%3D%3D?line=107'>108</a>\u001b[0m     m0 \u001b[39m=\u001b[39m units[\u001b[39m\"\u001b[39m\u001b[39mmass\u001b[39m\u001b[39m\"\u001b[39m]\n",
      "\u001b[1;32m/home/rometsch/repo/fargocpt/examples/400_Custom_Gas_Init.ipynb Cell 18\u001b[0m line \u001b[0;36m9\n\u001b[1;32m     <a href='vscode-notebook-cell://ssh-remote%2Bkamino/home/rometsch/repo/fargocpt/examples/400_Custom_Gas_Init.ipynb#X55sdnNjb2RlLXJlbW90ZQ%3D%3D?line=96'>97</a>\u001b[0m units \u001b[39m=\u001b[39m {}\n\u001b[1;32m     <a href='vscode-notebook-cell://ssh-remote%2Bkamino/home/rometsch/repo/fargocpt/examples/400_Custom_Gas_Init.ipynb#X55sdnNjb2RlLXJlbW90ZQ%3D%3D?line=97'>98</a>\u001b[0m \u001b[39mfor\u001b[39;00m key, val \u001b[39min\u001b[39;00m units_info\u001b[39m.\u001b[39mitems():\n\u001b[0;32m---> <a href='vscode-notebook-cell://ssh-remote%2Bkamino/home/rometsch/repo/fargocpt/examples/400_Custom_Gas_Init.ipynb#X55sdnNjb2RlLXJlbW90ZQ%3D%3D?line=98'>99</a>\u001b[0m     units[key] \u001b[39m=\u001b[39m u\u001b[39m.\u001b[39mUnit(val[\u001b[39m\"\u001b[39;49m\u001b[39mcgs value\u001b[39;49m\u001b[39m\"\u001b[39;49m] \u001b[39m*\u001b[39;49m val[\u001b[39m\"\u001b[39;49m\u001b[39mcgs symbol\u001b[39;49m\u001b[39m\"\u001b[39;49m])\n\u001b[1;32m    <a href='vscode-notebook-cell://ssh-remote%2Bkamino/home/rometsch/repo/fargocpt/examples/400_Custom_Gas_Init.ipynb#X55sdnNjb2RlLXJlbW90ZQ%3D%3D?line=99'>100</a>\u001b[0m \u001b[39mreturn\u001b[39;00m units\n",
      "\u001b[0;31mMemoryError\u001b[0m: "
     ]
    }
   ],
   "source": [
    "config = get_fargo_config(configfile)\n",
    "outdir = \"output/out\"\n",
    "disk = get_fargo_powerlaw_disk_output(outdir)"
   ]
  },
  {
   "cell_type": "markdown",
   "id": "2f8b1cad",
   "metadata": {},
   "source": [
    "### Adding a gap\n",
    "\n",
    "Let's add a gap by reducing the density and adjusting the azimuthal velocity."
   ]
  },
  {
   "cell_type": "code",
   "execution_count": 12,
   "id": "1ba64c65",
   "metadata": {},
   "outputs": [],
   "source": [
    "gap_depth = 0.9\n",
    "gap_width = 0.1\n",
    "gap_center = 1.0"
   ]
  },
  {
   "cell_type": "code",
   "execution_count": 16,
   "id": "1060bc9a",
   "metadata": {},
   "outputs": [],
   "source": [
    "field = FargoCPTField(\"output/out\", \"0\", \"Sigma\")\n",
    "R = field.R\n",
    "old_density = field.array\n",
    "\n",
    "f = -gap_depth * np.exp(-0.5*(R-gap_center)**2/gap_width**2)\n",
    "field.array = old_density * (1+f)\n",
    "\n",
    "field.save()"
   ]
  },
  {
   "cell_type": "code",
   "execution_count": 19,
   "id": "97855b05",
   "metadata": {},
   "outputs": [
    {
     "ename": "NameError",
     "evalue": "name 'disk' is not defined",
     "output_type": "error",
     "traceback": [
      "\u001b[0;31m---------------------------------------------------------------------------\u001b[0m",
      "\u001b[0;31mNameError\u001b[0m                                 Traceback (most recent call last)",
      "\u001b[1;32m/home/rometsch/repo/fargocpt/examples/400_Custom_Gas_Init.ipynb Cell 20\u001b[0m line \u001b[0;36m6\n\u001b[1;32m      <a href='vscode-notebook-cell://ssh-remote%2Bkamino/home/rometsch/repo/fargocpt/examples/400_Custom_Gas_Init.ipynb#X51sdnNjb2RlLXJlbW90ZQ%3D%3D?line=3'>4</a>\u001b[0m f \u001b[39m=\u001b[39m \u001b[39m-\u001b[39mgap_depth \u001b[39m*\u001b[39m np\u001b[39m.\u001b[39mexp(\u001b[39m-\u001b[39m\u001b[39m0.5\u001b[39m\u001b[39m*\u001b[39m(R\u001b[39m-\u001b[39mgap_center)\u001b[39m*\u001b[39m\u001b[39m*\u001b[39m\u001b[39m2\u001b[39m\u001b[39m/\u001b[39mgap_width\u001b[39m*\u001b[39m\u001b[39m*\u001b[39m\u001b[39m2\u001b[39m)\n\u001b[1;32m      <a href='vscode-notebook-cell://ssh-remote%2Bkamino/home/rometsch/repo/fargocpt/examples/400_Custom_Gas_Init.ipynb#X51sdnNjb2RlLXJlbW90ZQ%3D%3D?line=4'>5</a>\u001b[0m \u001b[39m# field.array = field.array * ( 1 - 2*R*(R-gap_center)/gap_width**2 * f/(1+f) * disk.cs(R)**2/(disk.gamma*(R*disk.Omega(R))**2) )**0.5\u001b[39;00m\n\u001b[0;32m----> <a href='vscode-notebook-cell://ssh-remote%2Bkamino/home/rometsch/repo/fargocpt/examples/400_Custom_Gas_Init.ipynb#X51sdnNjb2RlLXJlbW90ZQ%3D%3D?line=5'>6</a>\u001b[0m field\u001b[39m.\u001b[39marray \u001b[39m=\u001b[39m field\u001b[39m.\u001b[39marray \u001b[39m*\u001b[39m ( \u001b[39m1\u001b[39m \u001b[39m-\u001b[39m \u001b[39m2\u001b[39m\u001b[39m*\u001b[39mR\u001b[39m*\u001b[39m(R\u001b[39m-\u001b[39mgap_center)\u001b[39m/\u001b[39mgap_width\u001b[39m*\u001b[39m\u001b[39m*\u001b[39m\u001b[39m2\u001b[39m \u001b[39m*\u001b[39m f\u001b[39m/\u001b[39m(\u001b[39m1\u001b[39m\u001b[39m+\u001b[39mf) \u001b[39m*\u001b[39m disk\u001b[39m.\u001b[39mh(R)\u001b[39m*\u001b[39m\u001b[39m*\u001b[39m\u001b[39m2\u001b[39m )\u001b[39m*\u001b[39m\u001b[39m*\u001b[39m\u001b[39m0.5\u001b[39m\n\u001b[1;32m      <a href='vscode-notebook-cell://ssh-remote%2Bkamino/home/rometsch/repo/fargocpt/examples/400_Custom_Gas_Init.ipynb#X51sdnNjb2RlLXJlbW90ZQ%3D%3D?line=7'>8</a>\u001b[0m field\u001b[39m.\u001b[39msave()\n",
      "\u001b[0;31mNameError\u001b[0m: name 'disk' is not defined"
     ]
    }
   ],
   "source": [
    "field = FargoCPTField(\"output/out\", \"0\", \"vtheta\")\n",
    "R = field.R\n",
    "# need to recompute because R is different for vrad\n",
    "f = -gap_depth * np.exp(-0.5*(R-gap_center)**2/gap_width**2)\n",
    "# field.array = field.array * ( 1 - 2*R*(R-gap_center)/gap_width**2 * f/(1+f) * disk.cs(R)**2/(disk.gamma*(R*disk.Omega(R))**2) )**0.5\n",
    "field.array = field.array * ( 1 - 2*R*(R-gap_center)/gap_width**2 * f/(1+f) * disk.h(R)**2 )**0.5\n",
    "\n",
    "field.save()"
   ]
  },
  {
   "cell_type": "code",
   "execution_count": null,
   "id": "7f8a033c",
   "metadata": {},
   "outputs": [],
   "source": []
  }
 ],
 "metadata": {
  "kernelspec": {
   "display_name": "Python 3 (ipykernel)",
   "language": "python",
   "name": "python3"
  },
  "language_info": {
   "codemirror_mode": {
    "name": "ipython",
    "version": 3
   },
   "file_extension": ".py",
   "mimetype": "text/x-python",
   "name": "python",
   "nbconvert_exporter": "python",
   "pygments_lexer": "ipython3",
   "version": "3.10.12"
  },
  "vscode": {
   "interpreter": {
    "hash": "916dbcbb3f70747c44a77c7bcd40155683ae19c65e1c03b4aa3499c5328201f1"
   }
  }
 },
 "nbformat": 4,
 "nbformat_minor": 5
}
