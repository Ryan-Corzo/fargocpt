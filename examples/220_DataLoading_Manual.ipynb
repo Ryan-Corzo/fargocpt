{
 "cells": [
  {
   "cell_type": "markdown",
   "metadata": {},
   "source": [
    "## Manual 2d data loading"
   ]
  },
  {
   "attachments": {},
   "cell_type": "markdown",
   "metadata": {},
   "source": [
    "This example will teach you how to manually load the 2d output files."
   ]
  },
  {
   "cell_type": "markdown",
   "metadata": {},
   "source": [
    "First, lets get the number of cells in each direction of the grid by loading the dimensions.dat file."
   ]
  },
  {
   "cell_type": "code",
   "execution_count": null,
   "metadata": {},
   "outputs": [],
   "source": [
    "import numpy as np\n",
    "datadir = \"../output/out\"\n",
    "dimensions = {k:v for k,v in zip(\n",
    "    [\"RMIN\", \"RMAX\" ,\"PHIMIN\", \"PHIMAX\", \"NRAD\" ,\"NAZ\",\"NGHRAD\",\"NGHAZ\",\"Radial_spacing\"],\n",
    "    np.genfromtxt(datadir + \"/dimensions.dat\", dtype=[float, float, float, float, int, int, int, int, 'S20'])[()])}\n",
    "Nrad = dimensions[\"NRAD\"]\n",
    "Naz = dimensions[\"NAZ\"]\n"
   ]
  },
  {
   "cell_type": "markdown",
   "metadata": {},
   "source": [
    "Next, load the base units from the units.dat file."
   ]
  },
  {
   "cell_type": "code",
   "execution_count": null,
   "metadata": {},
   "outputs": [
    {
     "data": {
      "text/plain": [
       "{'RMIN': 0.4,\n",
       " 'RMAX': 2.5,\n",
       " 'PHIMIN': 0.0,\n",
       " 'PHIMAX': 6.283185307179586,\n",
       " 'NRAD': 128,\n",
       " 'NAZ': 384,\n",
       " 'NGHRAD': 1,\n",
       " 'NGHAZ': 1,\n",
       " 'Radial_spacing': b'Logarithmic'}"
      ]
     },
     "metadata": {},
     "output_type": "display_data"
    }
   ],
   "source": [
    "dimensions"
   ]
  },
  {
   "cell_type": "code",
   "execution_count": null,
   "metadata": {},
   "outputs": [
    {
     "data": {
      "text/plain": [
       "{'length': '1.4959787070000000e+13 cm',\n",
       " 'mass': '1.9884699999999999e+33 g',\n",
       " 'time': '5.0225669513368811e+06 s',\n",
       " 'temperature': '1.0670018430261180e+05 K'}"
      ]
     },
     "metadata": {},
     "output_type": "display_data"
    }
   ],
   "source": [
    "units = {}\n",
    "with open(datadir + \"/units.dat\") as infile:\n",
    "    for line in infile:\n",
    "        line = line.strip()\n",
    "        if line[0] == \"#\":\n",
    "            continue\n",
    "        cols = line.split()\n",
    "        if len(cols) < 2:\n",
    "            continue\n",
    "        units[cols[0]] = \" \".join(cols[1:])\n",
    "units"
   ]
  },
  {
   "cell_type": "markdown",
   "metadata": {},
   "source": [
    "Finally, lets load some data from an output file.\n",
    "We'll start with surface density from snapshot number 2."
   ]
  },
  {
   "cell_type": "code",
   "execution_count": null,
   "metadata": {},
   "outputs": [
    {
     "data": {
      "text/plain": [
       "(49152,)"
      ]
     },
     "metadata": {},
     "output_type": "display_data"
    }
   ],
   "source": [
    "Nsnap = 2\n",
    "datafile = datadir + f\"/snapshots/{Nsnap}/Sigma.dat\"\n",
    "Sigma_raw = np.fromfile(datafile, dtype=np.float64)\n",
    "Sigma_raw.shape"
   ]
  },
  {
   "cell_type": "markdown",
   "metadata": {},
   "source": [
    "The data is stored on disk as a 1D-array, so we need to reshape it to the correct 2d form."
   ]
  },
  {
   "cell_type": "code",
   "execution_count": null,
   "metadata": {},
   "outputs": [
    {
     "data": {
      "text/plain": [
       "(128, 384)"
      ]
     },
     "metadata": {},
     "output_type": "display_data"
    }
   ],
   "source": [
    "Sigma_reshaped = Sigma_raw.reshape(Nrad, Naz)\n",
    "Sigma_reshaped.shape"
   ]
  },
  {
   "cell_type": "markdown",
   "metadata": {},
   "source": [
    "At this point, the values are in code units, which can be anything.\n",
    "Because we have all the unit information loaded already, we can convert the values to something more understandable.\n",
    "I suggest using the astropy library to handle the unit conversions."
   ]
  },
  {
   "cell_type": "code",
   "execution_count": null,
   "metadata": {},
   "outputs": [
    {
     "name": "stdout",
     "output_type": "stream",
     "text": [
      "L0 = 1.49598e+13 cm\n",
      "M0 = 1.98847e+33 g\n",
      "T0 = 5.02257e+06 s\n"
     ]
    }
   ],
   "source": [
    "import astropy.units as u\n",
    "L0 = u.Unit(units[\"length\"])\n",
    "M0 = u.Unit(units[\"mass\"])\n",
    "T0 = u.Unit(units[\"time\"])\n",
    "print(\"L0 =\", L0)\n",
    "print(\"M0 =\", M0)\n",
    "print(\"T0 =\", T0)"
   ]
  },
  {
   "cell_type": "code",
   "execution_count": null,
   "metadata": {},
   "outputs": [
    {
     "data": {
      "text/latex": [
       "$0.00033442226 \\; \\mathrm{8885220.7\\,\\frac{g}{cm^{2}}}$"
      ],
      "text/plain": [
       "<Quantity 0.00033442 8.88522e+06 g / cm2>"
      ]
     },
     "metadata": {},
     "output_type": "display_data"
    }
   ],
   "source": [
    "Sigma = Sigma_reshaped * M0 / L0**2\n",
    "Sigma[0][0]"
   ]
  },
  {
   "cell_type": "markdown",
   "metadata": {},
   "source": [
    "Now the values carry a unit, though this is still the code unit for surface density.\n",
    "The Sigma variable now points to an astropy.units.Quantity object, which is a numpy array with some extra information like the unit and some extra methods to convert these units."
   ]
  },
  {
   "cell_type": "code",
   "execution_count": null,
   "metadata": {},
   "outputs": [
    {
     "data": {
      "text/latex": [
       "$2971.4156 \\; \\mathrm{\\frac{g}{cm^{2}}}$"
      ],
      "text/plain": [
       "<Quantity 2971.4156036 g / cm2>"
      ]
     },
     "metadata": {},
     "output_type": "display_data"
    }
   ],
   "source": [
    "Sigma = Sigma.to(\"g/cm2\")\n",
    "Sigma[0][0]"
   ]
  },
  {
   "cell_type": "markdown",
   "metadata": {},
   "source": [
    "Before we construct a grid, lets have a look at the data."
   ]
  },
  {
   "cell_type": "code",
   "execution_count": null,
   "metadata": {},
   "outputs": [
    {
     "data": {
      "text/plain": [
       "<matplotlib.image.AxesImage at 0x7f07803fb340>"
      ]
     },
     "metadata": {},
     "output_type": "display_data"
    },
    {
     "data": {
      "image/png": "[encoded data removed]",
      "text/plain": [
       "<Figure size 640x480 with 1 Axes>"
      ]
     },
     "metadata": {},
     "output_type": "display_data"
    }
   ],
   "source": [
    "import matplotlib.pyplot as plt\n",
    "plt.imshow(Sigma)"
   ]
  },
  {
   "cell_type": "markdown",
   "metadata": {},
   "source": [
    "Fargo only stores basic information about the grid which we already loaded above.\n",
    "We will now construct arrays with the coordinates on the cell interfaces."
   ]
  },
  {
   "cell_type": "code",
   "execution_count": null,
   "metadata": {},
   "outputs": [],
   "source": [
    "if dimensions[\"Radial_spacing\"] == b'Logarithmic':\n",
    "    ri = np.geomspace(dimensions[\"RMIN\"], dimensions[\"RMAX\"], Nrad+1)\n",
    "else:\n",
    "    ri = np.linspace(dimensions[\"RMIN\"], dimensions[\"RMAX\"], Nrad+1)\n",
    "ri = ri*L0\n",
    "\n",
    "phii = np.linspace(dimensions[\"PHIMIN\"], dimensions[\"PHIMAX\"], Naz+1)"
   ]
  },
  {
   "cell_type": "markdown",
   "metadata": {},
   "source": [
    "Now we have all information to make a colormap plot of the surface density."
   ]
  },
  {
   "cell_type": "code",
   "execution_count": null,
   "metadata": {},
   "outputs": [
    {
     "data": {
      "image/png": "[encoded data removed]",
      "text/plain": [
       "<Figure size 640x480 with 2 Axes>"
      ]
     },
     "metadata": {},
     "output_type": "display_data"
    }
   ],
   "source": [
    "Ri, Phii = np.meshgrid(ri, phii, indexing=\"ij\")\n",
    "pcm = plt.pcolormesh(Ri.to_value(\"au\"), Phii, Sigma.to_value(\"g/cm2\"))\n",
    "plt.xlabel(\"r [au]\")\n",
    "plt.ylabel(r\"$\\phi$\")\n",
    "cbar = plt.colorbar(pcm)"
   ]
  },
  {
   "cell_type": "markdown",
   "metadata": {},
   "source": [
    "The surface density values are defined on the cell center locations.\n",
    "Fargo uses a staggered grid, which means that the velocities are defined on the cell interfaces.\n",
    "The radial velocity is defined on the radial cell interfaces and the azimuthal velocity is defined on the azimuthal cell interfaces.\n",
    "As a result, there are more values in the radial velocity array because there is one more radial interface location compared to radial center locations. This means the respective array has Naz more values.\n",
    "Let's see for ourselves."
   ]
  },
  {
   "cell_type": "code",
   "execution_count": null,
   "metadata": {},
   "outputs": [
    {
     "data": {
      "text/plain": [
       "(49536,)"
      ]
     },
     "metadata": {},
     "output_type": "display_data"
    }
   ],
   "source": [
    "Nsnap = 2\n",
    "datafile = datadir + f\"/snapshots/{Nsnap}/vrad.dat\"\n",
    "vrad_raw = np.fromfile(datafile, dtype=np.float64)\n",
    "vrad_raw.shape"
   ]
  },
  {
   "cell_type": "code",
   "execution_count": null,
   "metadata": {},
   "outputs": [
    {
     "name": "stdout",
     "output_type": "stream",
     "text": [
      "len(Sigma_raw) = 49152\n",
      "len(vrad_raw) = 49536\n"
     ]
    }
   ],
   "source": [
    "print(\"len(Sigma_raw) =\", len(Sigma_raw))\n",
    "print(\"len(vrad_raw) =\", len(vrad_raw))"
   ]
  },
  {
   "cell_type": "code",
   "execution_count": null,
   "metadata": {},
   "outputs": [
    {
     "data": {
      "text/plain": [
       "384"
      ]
     },
     "metadata": {},
     "output_type": "display_data"
    }
   ],
   "source": [
    "len(vrad_raw) - len(Sigma_raw)"
   ]
  },
  {
   "cell_type": "code",
   "execution_count": null,
   "metadata": {},
   "outputs": [
    {
     "data": {
      "text/plain": [
       "384"
      ]
     },
     "metadata": {},
     "output_type": "display_data"
    }
   ],
   "source": [
    "Naz"
   ]
  },
  {
   "cell_type": "markdown",
   "metadata": {},
   "source": [
    "Again, reshape and apply units."
   ]
  },
  {
   "cell_type": "code",
   "execution_count": null,
   "metadata": {},
   "outputs": [],
   "source": [
    "vrad_reshaped = vrad_raw.reshape(Nrad+1, Naz)\n",
    "vrad = vrad_reshaped * L0 / T0"
   ]
  },
  {
   "cell_type": "markdown",
   "metadata": {},
   "source": [
    "For the azimuthal velocity, there are as many values as in the surface density array.\n",
    "This is because the azimuthal boundary is periodic, so we do not need to store both the the values on the first and the last interface locations since these values are identical by construction.\n",
    "The energy values are also defined at the cell centers, so its the same procedure as for the surface density."
   ]
  },
  {
   "cell_type": "markdown",
   "metadata": {},
   "source": []
  }
 ],
 "metadata": {
  "language_info": {
   "name": "python"
  },
  "orig_nbformat": 4
 },
 "nbformat": 4,
 "nbformat_minor": 2
}
