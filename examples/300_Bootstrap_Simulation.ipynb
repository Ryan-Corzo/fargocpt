{
 "cells": [
  {
   "cell_type": "markdown",
   "id": "8c94c9a7-d32f-4905-8dae-74f48ee9f6a5",
   "metadata": {},
   "source": [
    "# FargoCPT Bootstrap Notebook"
   ]
  },
  {
   "cell_type": "markdown",
   "id": "64bc1a1a",
   "metadata": {},
   "source": [
    "## What is this?\n",
    "This notebook can be used to setup a FargoCPT simulation in an empty directory.\n",
    "\n",
    "## Why is this useful?\n",
    "This is useful when you want to run a simulation on a cluster which you can access using Jupyter notebooks and want to store a full copy of the code alongside your simulation outputs.\n",
    "\n",
    "## Contents\n",
    "\n",
    "It will do the following things:\n",
    "- clone the repository from github\n",
    "- compile the code\n",
    "- give you a command to run the simulation\n",
    "- print the available data\n",
    "- plot the surface density"
   ]
  },
  {
   "cell_type": "markdown",
   "id": "151247ed",
   "metadata": {},
   "source": [
    "First we create a new directory and change to it."
   ]
  },
  {
   "cell_type": "code",
   "execution_count": 1,
   "id": "d9d57a01-1eb0-416b-bc36-a988a2049032",
   "metadata": {},
   "outputs": [
    {
     "name": "stdout",
     "output_type": "stream",
     "text": [
      "Current working directory: /home/rometsch/repo/fargocpt/examples/example_dirs/300_bootstrap\n",
      "Repository root directory: /home/rometsch/repo/fargocpt\n"
     ]
    }
   ],
   "source": [
    "example_name = \"300_bootstrap\"\n",
    "example_dir = f\"example_dirs/{example_name}\"\n",
    "import os\n",
    "if not os.path.basename(os.getcwd()) == example_name:\n",
    "    !mkdir -p $example_dir\n",
    "    os.chdir(example_dir)\n",
    "repo_root = os.path.abspath(os.path.join(os.getcwd(), \"../../../\"))\n",
    "print(f\"Current working directory: {os.getcwd()}\")\n",
    "print(f\"Repository root directory: {repo_root}\")"
   ]
  },
  {
   "cell_type": "markdown",
   "id": "2116cb22",
   "metadata": {},
   "source": [
    "## Downloading the code\n",
    "\n",
    "We will clone only the last commit of the code which is enough to run the simulation and faster to download."
   ]
  },
  {
   "cell_type": "code",
   "execution_count": 2,
   "id": "447fef12",
   "metadata": {},
   "outputs": [
    {
     "name": "stdout",
     "output_type": "stream",
     "text": [
      "Cloning into 'code'...\n"
     ]
    },
    {
     "name": "stdout",
     "output_type": "stream",
     "text": [
      "remote: Enumerating objects: 749, done.\u001b[K\n",
      "remote: Counting objects: 100% (749/749), done.\u001b[K\n",
      "remote: Compressing objects: 100% (625/625), done.\u001b[K\n",
      "remote: Total 749 (delta 155), reused 459 (delta 88), pack-reused 0\u001b[K\n",
      "Receiving objects: 100% (749/749), 4.95 MiB | 4.37 MiB/s, done.\n",
      "Resolving deltas: 100% (155/155), done.\n"
     ]
    }
   ],
   "source": [
    "!git clone --depth 1 https://github.com/rometsch/fargocpt code"
   ]
  },
  {
   "cell_type": "markdown",
   "id": "9ee685bc-d8b6-4cbc-9542-cbc6815ebb5c",
   "metadata": {},
   "source": [
    "## Building the code"
   ]
  },
  {
   "cell_type": "markdown",
   "id": "40f50bdd-bbeb-4328-9d4e-17c6810b070f",
   "metadata": {},
   "source": [
    "Make sure the code is built by running make again."
   ]
  },
  {
   "cell_type": "code",
   "execution_count": 3,
   "id": "a2260ebe-cbb8-40f9-a142-03fd4cea90fa",
   "metadata": {
    "tags": []
   },
   "outputs": [
    {
     "name": "stdout",
     "output_type": "stream",
     "text": [
      "26.7 s ± 0 ns per loop (mean ± std. dev. of 1 run, 1 loop each)\n"
     ]
    }
   ],
   "source": [
    "%%timeit -n1 -r1\n",
    "from sys import platform\n",
    "if platform in [\"linux\", \"darwin\"]:\n",
    "    !make -j 4 -C code/src > make.log\n",
    "else:\n",
    "    raise RuntimeError(f\"Seems like you are not running MacOS or Linux but {platform}. This is unsupported. You are on your own, good luck!\")"
   ]
  },
  {
   "cell_type": "markdown",
   "id": "3ecdb48e-e0e7-43e7-abb1-1ff7671a33ee",
   "metadata": {},
   "source": [
    "## Preparing a setup file\n",
    "\n",
    "We'll take the example setup file from the examples directory and modify it in python.\n",
    "If you want to create setup files for a parameter study, just copy the code and make your own setup creator script."
   ]
  },
  {
   "cell_type": "code",
   "execution_count": 4,
   "id": "1030f0f2",
   "metadata": {},
   "outputs": [],
   "source": [
    "configfile = \"setup.yml\"\n",
    "!cp code/examples/config.yml $configfile"
   ]
  },
  {
   "cell_type": "markdown",
   "id": "6e314064",
   "metadata": {},
   "source": [
    "We'll use the `ruamel.yaml` package to read and write the setup file. This can be set up to preserve comments which is very useful if you want to trace your decisions later on."
   ]
  },
  {
   "cell_type": "code",
   "execution_count": 5,
   "id": "e0f8dc46",
   "metadata": {},
   "outputs": [],
   "source": [
    "try:\n",
    "    import ruamel.yaml\n",
    "except ImportError:\n",
    "    raise ImportError(\"Please install ruamel.yaml with `python3 -m pip install ruamel.yaml`\")\n",
    "yaml = ruamel.yaml.YAML()\n",
    "with open(configfile, \"r\") as infile:\n",
    "    config = yaml.load(infile)"
   ]
  },
  {
   "cell_type": "code",
   "execution_count": 6,
   "id": "b855448e",
   "metadata": {},
   "outputs": [],
   "source": [
    "config[\"nbody\"][1][\"accretion efficiency\"] = \"2\"\n",
    "config[\"MonitorTimestep\"] = 0.314 # monitor scalar files around every half orbit\n",
    "config[\"Nmonitor\"] = 20 # write a snapshot every orbit\n",
    "config[\"Nsnapshots\"] = 30 # wirte 10 snapshots\n",
    "# use very low resolution by setting it to 2 cell per scaleheight, cps\n",
    "del config[\"Nrad\"]\n",
    "del config[\"Naz\"]\n",
    "config[\"cps\"] = 2"
   ]
  },
  {
   "cell_type": "code",
   "execution_count": 7,
   "id": "5d76a0d4",
   "metadata": {},
   "outputs": [],
   "source": [
    "with open(configfile, \"w\") as outfile:\n",
    "    yaml.dump(config, outfile)"
   ]
  },
  {
   "cell_type": "markdown",
   "id": "9847493f-e6e7-42ab-842e-5141ef11ba33",
   "metadata": {},
   "source": [
    "## Running the code"
   ]
  },
  {
   "cell_type": "markdown",
   "id": "33809340",
   "metadata": {},
   "source": [
    "We can start fargo using the python interface, but this runs slower when started from within a Jupyter Notebook compared to being executed from without.\n",
    "Even calling a python script using the shell magic \"!\" does not speed it up.\n",
    "Calling a python script that does the same job from the command line does not have this issue.\n",
    "\n",
    "If anyone knows why this is, please let me know!"
   ]
  },
  {
   "cell_type": "markdown",
   "id": "e038ffca",
   "metadata": {},
   "source": [
    "For a production run, even for further testing, please open a terminal and run the output of the following cell:"
   ]
  },
  {
   "cell_type": "code",
   "execution_count": 8,
   "id": "990e567c",
   "metadata": {},
   "outputs": [
    {
     "name": "stdout",
     "output_type": "stream",
     "text": [
      "cd /home/rometsch/repo/fargocpt/examples/example_dirs/300_bootstrap && code/run_fargo -np 1 -nt 4 auto setup.yml\n"
     ]
    }
   ],
   "source": [
    "cwd = os.getcwd()\n",
    "cmd = f\"cd {cwd} && code/run_fargo -np 1 -nt 4 auto {configfile}\"\n",
    "print(cmd)"
   ]
  },
  {
   "cell_type": "markdown",
   "metadata": {},
   "source": [
    "If you plan to run on a cluster, put something similar into a run script to be queued in the queueing system.\n",
    "\n",
    "Consider generating your queuing script here so you can just copy this notebook and setup a new simulation."
   ]
  },
  {
   "cell_type": "markdown",
   "id": "ef59968d",
   "metadata": {},
   "source": [
    "For the sake of this notebook, we just run the simluation here.\n",
    "\n",
    "We'll use the python module from within the directory."
   ]
  },
  {
   "cell_type": "code",
   "execution_count": 9,
   "id": "8f606fab",
   "metadata": {},
   "outputs": [
    {
     "name": "stdout",
     "output_type": "stream",
     "text": [
      "Running command: mpirun -np 2 --report-pid /tmp/tmpcqh1chwn -x OMP_NUM_THREADS=1 code/bin/fargocpt_exe start setup.yml\n",
      "fargo process pid 1403025\n",
      "\n",
      "[0] MPI rank #  0 runs as process 1403029\n",
      "[1] MPI rank #  1 runs as process 1403030\n",
      "[0] MPI rank #  0 OpenMP thread #  0 of  1 on cpt-kamino\n",
      "[1] MPI rank #  1 OpenMP thread #  0 of  1 on cpt-kamino\n",
      "[0] fargo: This file was compiled on Nov 14 2023, 15:52:04.\n",
      "[0] fargo: This version of FARGO used _GNU_SOURCE\n",
      "[0] fargo: This version of FARGO used NDEBUG. So no assertion checks!\n",
      "[0] Using parameter file setup.yml\n",
      "[0] Computing disk quantities within 5.00000e+00 L0 from coordinate center\n",
      "[0] BC: Inner composite = reflecting\n",
      "[0] BC: Outer composite = reflecting\n",
      "[0] BC: Sigma inner = zerogradient\n",
      "[0] BC: Sigma outer = zerogradient\n",
      "[0] BC: Energy inner = zerogradient\n",
      "[0] BC: Energy outer = zerogradient\n",
      "[0] BC: Vrad inner = reflecting\n",
      "[0] BC: Vrad outer = reflecting\n",
      "[0] BC: Vaz inner = keplerian\n",
      "[0] BC: Vaz outer = keplerian\n",
      "[0] DampingTimeFactor: 1.00000e-01 Outer damping time is computed at radius of 2.50000e+00\n",
      "[0] Damping VRadial to reference value at inner boundary.\n",
      "[0] Damping VRadial to reference value at outer boundary.\n",
      "[0] Damping VAzimuthal to reference value at inner boundary.\n",
      "[0] Damping VAzimuthal to reference value at outer boundary.\n",
      "[0] Damping SurfaceDensity to reference value at inner boundary.\n",
      "[0] Damping SurfaceDensity to reference value at outer boundary.\n",
      "[0] Damping Energy to reference value at inner boundary.\n",
      "[0] Damping Energy to reference value at outer boundary.\n",
      "[0] Radiative diffusion is disabled. Using fixed omega = 1.500000 with a maximum 50000 interations.\n",
      "[0] Indirect Term computed as effective Hydro center acceleratrion with shifting the Nbody system to the center.\n",
      "[0] Body force on gas computed via potential.\n",
      "[0] Using FARGO algorithm for azimuthal advection.\n",
      "[0] Using standard forward euler scheme for source terms.\n",
      "[0] Grid resolution set using cps = 2.000000\n",
      "[0] The grid has (Nrad, Naz) = (74, 251) cells with (1.994113, 1.997395) cps.\n",
      "[0] Computing scale height with respect to primary object.\n",
      "[0] Using isothermal equation of state. AdiabaticIndex = 1.400.\n",
      "[0] Viscosity is of alpha type with alpha = 1.000e-03\n",
      "[0] Defaulting to VanLeer flux limiter\n",
      "[0] Output information:\n",
      "[0]    Output directory: output/out/\n",
      "[0]     Number of files: 240\n",
      "[0]   Total output size: 0.00 GB\n",
      "[0]     Space Available: 31.18 GB\n",
      "[0] Initializing 1 RNGs per MPI process.\n",
      "[0] Warning : no `radii.dat' file found. Using default.\n",
      "[0] The first 1 planets are used to calculate the hydro frame center.\n",
      "[0] The mass of the planets used as hydro frame center is 1.000000e+00.\n",
      "[0] 2 planet(s) initialized.\n",
      "[0] Planet overview:\n",
      "[0] \n",
      "[0]  #   | name                    | mass [m0]  | x [l0]     | y [l0]     | vx         | vy         |\n",
      "[0] -----+-------------------------+------------+------------+------------+------------+------------+\n",
      "[0]    0 | Star                    |          1 |          0 |         -0 |          0 |          0 |\n",
      "[0]    1 | Jupiter                 |  0.0009546033 |          1 |          0 |         -0 |   1.000477 |\n",
      "[0] \n",
      "[0]  #   | e          | a          | T [t0]     | T [a]      | accreting  | Accretion Type |\n",
      "[0] -----+------------+------------+------------+------------+------------+----------------+\n",
      "[0]    0 |  6.368246e-17 |          1 |   6.280188 |   0.999548 |          0 |   No Accretion |\n",
      "[0]    1 |  6.368246e-17 |          1 |   6.280188 |   0.999548 |          2 |   Kley Accret. |\n",
      "[0] \n",
      "[0]  #   | Temp [K]   | R [l0]     | irradiates | rampuptime |\n",
      "[0] -----+------------+------------+------------+------------+\n",
      "[0]    0 |       5778 |  0.0046505 |        yes |          0 |\n",
      "[0]    1 |          0 |  4.6505e-05 |         no |          0 |\n",
      "[0] \n",
      "[0] Using Tscharnuter-Winkler (1979) artificial viscosity with C = 1.410000.\n",
      "[0] Artificial viscosity is used for dissipation.\n",
      "[0] Surface density factor: 2.50663\n",
      "[0] Tau factor: 0.5\n",
      "[0] Tau min: 0.01\n",
      "[0] Kappa factor: 1\n",
      "[0] Minimum temperature: 2.81162e-05 K = 3.00000e+00\n",
      "[0] Maximum temperature: 9.37206e+94 K = 1.00000e+100\n",
      "[0] Heating from viscous dissipation is enabled. Using a total factor of 1.\n",
      "[0] Cooling (beta) is disabled and reference temperature is floor. Using beta = 10.\n",
      "[0] Cooling (radiative) is enabled. Using a total factor of 1.\n",
      "[0] S-curve cooling is disabled. \n",
      "[0] CFL parameter: 0.5\n",
      "[0] Opacity uses tables from Lin & Papaloizou, 1985\n",
      "[0] Particles are disabled.\n",
      "[0] Initializing Sigma(r) = 2.25093e-05 = 200 g cm^-2 * [r/(1 AU)]^(-0.5)\n",
      "[0] Total disk is mass is 0.000348841 = 6.9366e+29 g.\n",
      "[0] Writing output output/out/snapshots/0, Snapshot Number 0, Time 0.000000.\n",
      "[0] Writing output output/out/snapshots/reference, Snapshot Number 0, Time 0.000000.\n",
      "[0] Writing output output/out/snapshots/1, Snapshot Number 1, Time 6.280000.\n",
      "[0] Writing output output/out/snapshots/2, Snapshot Number 2, Time 12.560000.\n",
      "[0] Writing output output/out/snapshots/3, Snapshot Number 3, Time 18.840000.\n",
      "[0] Writing output output/out/snapshots/4, Snapshot Number 4, Time 25.120000.\n",
      "[0] Writing output output/out/snapshots/5, Snapshot Number 5, Time 31.400000.\n",
      "[0] Writing output output/out/snapshots/6, Snapshot Number 6, Time 37.680000.\n",
      "[0] Writing output output/out/snapshots/7, Snapshot Number 7, Time 43.960000.\n",
      "[0] Writing output output/out/snapshots/8, Snapshot Number 8, Time 50.240000.\n",
      "[0] Writing output output/out/snapshots/9, Snapshot Number 9, Time 56.520000.\n",
      "[0] Writing output output/out/snapshots/10, Snapshot Number 10, Time 62.800000.\n",
      "[0] Writing output output/out/snapshots/11, Snapshot Number 11, Time 69.080000.\n",
      "[0] Writing output output/out/snapshots/12, Snapshot Number 12, Time 75.360000.\n",
      "[0] Writing output output/out/snapshots/13, Snapshot Number 13, Time 81.640000.\n",
      "[0] Writing output output/out/snapshots/14, Snapshot Number 14, Time 87.920000.\n",
      "[0] Writing output output/out/snapshots/15, Snapshot Number 15, Time 94.200000.\n",
      "[0] Writing output output/out/snapshots/16, Snapshot Number 16, Time 100.480000.\n",
      "[0] Writing output output/out/snapshots/17, Snapshot Number 17, Time 106.760000.\n",
      "[0] Writing output output/out/snapshots/18, Snapshot Number 18, Time 113.040000.\n",
      "[0] Writing output output/out/snapshots/19, Snapshot Number 19, Time 119.320000.\n",
      "[0] Writing output output/out/snapshots/20, Snapshot Number 20, Time 125.600000.\n",
      "[0] Writing output output/out/snapshots/21, Snapshot Number 21, Time 131.880000.\n",
      "[0] Writing output output/out/snapshots/22, Snapshot Number 22, Time 138.160000.\n",
      "[0] Writing output output/out/snapshots/23, Snapshot Number 23, Time 144.440000.\n",
      "[0] Writing output output/out/snapshots/24, Snapshot Number 24, Time 150.720000.\n",
      "[0] Writing output output/out/snapshots/25, Snapshot Number 25, Time 157.000000.\n",
      "[0] Logging info: snapshot 25, monitor 514, hydrostep 4249, time inside simulation 161.619190, dt 4.524e-02, realtime 10.00 s, timeperstep 2.35 ms\n",
      "[0] Writing output output/out/snapshots/26, Snapshot Number 26, Time 163.280000.\n",
      "[0] Writing output output/out/snapshots/27, Snapshot Number 27, Time 169.560000.\n",
      "[0] Writing output output/out/snapshots/28, Snapshot Number 28, Time 175.840000.\n",
      "[0] Writing output output/out/snapshots/29, Snapshot Number 29, Time 182.120000.\n",
      "[0] Writing output output/out/snapshots/30, Snapshot Number 30, Time 188.400000.\n",
      "[0] -- Final: Total Hydrosteps 4909, Time 188.40, Walltime 11.56 seconds, Time per Step: 2.35 milliseconds\n"
     ]
    },
    {
     "data": {
      "text/plain": [
       "0"
      ]
     },
     "execution_count": 9,
     "metadata": {},
     "output_type": "execute_result"
    }
   ],
   "source": [
    "import sys\n",
    "sys.path = [\"code/python\"] + sys.path\n",
    "from fargocpt import run\n",
    "run([\"start\", configfile], np=2, nt=1, exe=\"code/bin/fargocpt_exe\", detach=False)"
   ]
  },
  {
   "cell_type": "markdown",
   "id": "1b564f1f",
   "metadata": {},
   "source": [
    "## Data\n",
    "\n",
    "Let's check whether there is data."
   ]
  },
  {
   "cell_type": "code",
   "execution_count": 10,
   "metadata": {},
   "outputs": [],
   "source": [
    "from fargocpt import Loader"
   ]
  },
  {
   "cell_type": "code",
   "execution_count": 11,
   "metadata": {},
   "outputs": [
    {
     "data": {
      "text/plain": [
       "   Loader\n",
       "====================\n",
       "| output_dir: output/out\n",
       "| snapshots: 0 ... 30\n",
       "| special_snapshots: ['reference']\n",
       "| snapshot_time: 0.0 5.02257e+06 s ... 188.4 5.02257e+06 s\n",
       "| monitor_number: 0 ... 600\n",
       "| units: Units\n",
       "| target_units = None\n",
       "| gas: Hydro\n",
       "| nbody: Nbody\n",
       "| params: Params\n",
       "| particles = None\n",
       "===================="
      ]
     },
     "execution_count": 11,
     "metadata": {},
     "output_type": "execute_result"
    }
   ],
   "source": [
    "l = Loader(\"output/out\")\n",
    "l"
   ]
  },
  {
   "cell_type": "code",
   "execution_count": null,
   "metadata": {},
   "outputs": [],
   "source": []
  }
 ],
 "metadata": {
  "kernelspec": {
   "display_name": "Python 3 (ipykernel)",
   "language": "python",
   "name": "python3"
  },
  "language_info": {
   "codemirror_mode": {
    "name": "ipython",
    "version": 3
   },
   "file_extension": ".py",
   "mimetype": "text/x-python",
   "name": "python",
   "nbconvert_exporter": "python",
   "pygments_lexer": "ipython3",
   "version": "3.10.12"
  },
  "vscode": {
   "interpreter": {
    "hash": "916dbcbb3f70747c44a77c7bcd40155683ae19c65e1c03b4aa3499c5328201f1"
   }
  }
 },
 "nbformat": 4,
 "nbformat_minor": 5
}
