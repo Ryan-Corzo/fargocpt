{
 "cells": [
  {
   "cell_type": "code",
   "execution_count": 1,
   "metadata": {},
   "outputs": [],
   "source": [
    "import disgrid\n",
    "import numpy as np\n",
    "import matplotlib.pyplot as plt"
   ]
  },
  {
   "cell_type": "code",
   "execution_count": 2,
   "metadata": {},
   "outputs": [],
   "source": [
    "d = disgrid.Data(\"output\")"
   ]
  },
  {
   "cell_type": "code",
   "execution_count": 3,
   "metadata": {},
   "outputs": [
    {
     "data": {
      "text/plain": [
       "{'fluids': {'gas': {'2d': ['dens', 'vrad', 'vtheta'],\n",
       "   '1d': ['eta', 'ma', 'd'],\n",
       "   'scalar': ['time step',\n",
       "    'analysis time step',\n",
       "    'physical time',\n",
       "    'mass',\n",
       "    'radius',\n",
       "    'angular momentum',\n",
       "    'total energy',\n",
       "    'internal energy',\n",
       "    'kinematic energy',\n",
       "    'potential energy',\n",
       "    'radial kinetic energy',\n",
       "    'azimuthal kinetic energy',\n",
       "    'eccentricity',\n",
       "    'periastron',\n",
       "    'viscous dissipation',\n",
       "    'luminosity',\n",
       "    'pdivv',\n",
       "    'delta mass inner positive',\n",
       "    'delta mass inner negative',\n",
       "    'delta mass outer positive',\n",
       "    'delta mass outer negative',\n",
       "    'delta mass inner wave damping positive',\n",
       "    'delta mass inner wave damping negative',\n",
       "    'delta mass outer wave damping positive',\n",
       "    'delta mass outer wave damping negative',\n",
       "    'delta mass floor density positive',\n",
       "    'aspect ratio']}},\n",
       " 'planets': {'0': ['time step',\n",
       "   'x',\n",
       "   'y',\n",
       "   'vx',\n",
       "   'vy',\n",
       "   'mass',\n",
       "   'physical time',\n",
       "   'omega frame',\n",
       "   'mdcp',\n",
       "   'eccentricity',\n",
       "   'angular momentum',\n",
       "   'semi-major axis',\n",
       "   'omega kepler',\n",
       "   'mean anomaly',\n",
       "   'eccentric anomaly',\n",
       "   'true anomaly',\n",
       "   'pericenter angle',\n",
       "   'torque',\n",
       "   'accreted mass',\n",
       "   'accretion rate'],\n",
       "  '1': ['time step',\n",
       "   'x',\n",
       "   'y',\n",
       "   'vx',\n",
       "   'vy',\n",
       "   'mass',\n",
       "   'physical time',\n",
       "   'omega frame',\n",
       "   'mdcp',\n",
       "   'eccentricity',\n",
       "   'angular momentum',\n",
       "   'semi-major axis',\n",
       "   'omega kepler',\n",
       "   'mean anomaly',\n",
       "   'eccentric anomaly',\n",
       "   'true anomaly',\n",
       "   'pericenter angle',\n",
       "   'torque',\n",
       "   'accreted mass',\n",
       "   'accretion rate']},\n",
       " 'Nsnapshots': 101}"
      ]
     },
     "execution_count": 3,
     "metadata": {},
     "output_type": "execute_result"
    }
   ],
   "source": [
    "d.avail()"
   ]
  },
  {
   "cell_type": "code",
   "execution_count": 4,
   "metadata": {},
   "outputs": [
    {
     "data": {
      "text/plain": [
       "Text(0, 0.5, '$(\\\\Sigma - \\\\Sigma_0) / \\\\Sigma_0$')"
      ]
     },
     "execution_count": 4,
     "metadata": {},
     "output_type": "execute_result"
    },
    {
     "data": {
      "image/png": "[encoded data removed]",
      "text/plain": [
       "<Figure size 432x288 with 2 Axes>"
      ]
     },
     "metadata": {
      "needs_background": "light"
     },
     "output_type": "display_data"
    }
   ],
   "source": [
    "fig, axes = plt.subplots(nrows=2)\n",
    "\n",
    "sigma = d.get(dim=\"2d\", var=\"mass density\", N=0)\n",
    "sigma1d0 = np.average(sigma.data, axis=1)\n",
    "Nmax = d.avail()[\"Nsnapshots\"]\n",
    "for n in range(0, Nmax, max(1, Nmax//10)):\n",
    "    sigma = d.get(dim=\"2d\", var=\"mass density\", N=n)\n",
    "    sigma1d = np.average(sigma.data, axis=1)\n",
    "    rs = sigma.grid.get_coordinates(\"r\")\n",
    "    reldiff = (sigma1d - sigma1d0)#/sigma1d0\n",
    "    axes[1].plot(rs, reldiff)\n",
    "    axes[0].plot(rs, sigma1d)\n",
    "axes[0].set_ylabel(r\"$\\Sigma$\")\n",
    "axes[1].set_ylabel(r\"$(\\Sigma - \\Sigma_0) / \\Sigma_0$\")"
   ]
  },
  {
   "cell_type": "code",
   "execution_count": null,
   "metadata": {},
   "outputs": [],
   "source": []
  },
  {
   "cell_type": "code",
   "execution_count": 5,
   "metadata": {},
   "outputs": [
    {
     "data": {
      "text/plain": [
       "(-0.2, 0.2)"
      ]
     },
     "execution_count": 5,
     "metadata": {},
     "output_type": "execute_result"
    },
    {
     "data": {
      "image/png": "[encoded data removed]",
      "text/plain": [
       "<Figure size 432x288 with 2 Axes>"
      ]
     },
     "metadata": {
      "needs_background": "light"
     },
     "output_type": "display_data"
    }
   ],
   "source": [
    "fig, axes = plt.subplots(ncols=2)\n",
    "\n",
    "sigma = d.get(dim=\"2d\", var=\"mass density\", N=10)\n",
    "sigma1d = np.average(sigma.data, axis=1)\n",
    "rs = sigma.grid.get_interfaces(\"r\")\n",
    "phis = sigma.grid.get_interfaces(\"phi\")\n",
    "PHIS, RS = np.meshgrid(phis, rs)\n",
    "X = RS*np.cos(PHIS)\n",
    "Y = RS*np.sin(PHIS)\n",
    "\n",
    "ax = axes[0]\n",
    "ax.pcolormesh(X.value,Y.value, sigma.data.value)\n",
    "ax.set_aspect(\"equal\")\n",
    "\n",
    "ax = axes[1]\n",
    "ax.pcolormesh(X.value,Y.value, sigma.data.value)\n",
    "ax.set_aspect(\"equal\")\n",
    "ax.set_xlim(0.8,1.2)\n",
    "ax.set_ylim(-0.2,0.2)"
   ]
  },
  {
   "cell_type": "code",
   "execution_count": null,
   "metadata": {},
   "outputs": [],
   "source": []
  }
 ],
 "metadata": {
  "kernelspec": {
   "display_name": "Python 3.10.4 64-bit",
   "language": "python",
   "name": "python3"
  },
  "language_info": {
   "codemirror_mode": {
    "name": "ipython",
    "version": 3
   },
   "file_extension": ".py",
   "mimetype": "text/x-python",
   "name": "python",
   "nbconvert_exporter": "python",
   "pygments_lexer": "ipython3",
   "version": "3.10.4"
  },
  "orig_nbformat": 4,
  "vscode": {
   "interpreter": {
    "hash": "31f2aee4e71d21fbe5cf8b01ff0e069b9275f58929596ceb00d14d90e3e16cd6"
   }
  }
 },
 "nbformat": 4,
 "nbformat_minor": 2
}
