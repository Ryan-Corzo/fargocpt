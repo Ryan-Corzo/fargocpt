{
 "cells": [
  {
   "cell_type": "code",
   "execution_count": 1,
   "metadata": {},
   "outputs": [],
   "source": [
    "import numpy as np\n",
    "import matplotlib.pyplot as plt\n",
    "import astropy.units as u\n",
    "import astropy.constants as const\n",
    "from tqdm import tqdm\n"
   ]
  },
  {
   "cell_type": "code",
   "execution_count": 30,
   "metadata": {},
   "outputs": [],
   "source": [
    "Ms = 1*u.solMass\n",
    "\n",
    "rmin = 9.5*u.au\n",
    "rmax = 10.5*u.au\n",
    "\n",
    "Ncells = 10000\n",
    "rcs = np.linspace(rmin, rmax, Ncells)\n",
    "\n",
    "alpha = 1e-2\n",
    "h0 = 0.040613\n",
    "flaring = 0.25\n",
    "\n",
    "sigma0 = 20*u.g/u.cm**2\n",
    "\n",
    "particle_density = 2.65*u.g/u.cm**3\n",
    "particle_size = 1e-5*u.cm\n",
    "\n",
    "h = h0*rcs.to_value(\"au\")**flaring\n",
    "\n",
    "vK = np.sqrt(const.G*Ms/rcs)\n",
    "OmegaK = vK/rcs\n",
    "H = h*rcs\n",
    "cs = h*vK\n",
    "\n",
    "sigmag = sigma0 * rcs.to_value(\"au\")**-1\n",
    "rho = sigmag / (np.sqrt(2*np.pi)*H)\n",
    "\n",
    "tstop = particle_size*particle_density/(rho*cs)\n",
    "St = tstop * OmegaK\n",
    "\n",
    "# Youdin & Lithwick 2007 Eq. 37\n",
    "Sc = (1 + St**2)**2  / (1 + 4*St**2)\n",
    "\n",
    "Dg = alpha*cs*H\n",
    "Dd = Dg/Sc\n"
   ]
  },
  {
   "cell_type": "code",
   "execution_count": 31,
   "metadata": {},
   "outputs": [
    {
     "name": "stderr",
     "output_type": "stream",
     "text": [
      "100%|██████████| 5/5 [00:00<00:00, 570.76it/s]\n"
     ]
    },
    {
     "data": {
      "text/plain": [
       "(0.001, 1)"
      ]
     },
     "execution_count": 31,
     "metadata": {},
     "output_type": "execute_result"
    },
    {
     "data": {
      "image/png": "[encoded data removed]",
      "text/plain": [
       "<Figure size 432x288 with 1 Axes>"
      ]
     },
     "metadata": {
      "needs_background": "light"
     },
     "output_type": "display_data"
    }
   ],
   "source": [
    "rhod = np.exp(- 0.5*(rcs.to_value(\"au\") - 10)**2/(0.01**2))\n",
    "\n",
    "t = 0*u.yr\n",
    "dt = 0.01*u.yr\n",
    "tfinal = 0.05*u.yr\n",
    "\n",
    "t_save = 100*u.yr\n",
    "N_save = int((tfinal / t_save).decompose()) + 1\n",
    "times_save = np.linspace(0, tfinal, N_save)\n",
    "saves = np.zeros((len(times_save), Ncells))\n",
    "\n",
    "\n",
    "fig, ax = plt.subplots()\n",
    "\n",
    "ax.plot(rcs, rhod, label = \"t = 0 yr\")\n",
    "\n",
    "nplot = 0\n",
    "\n",
    "saves[0] = rhod\n",
    "\n",
    "Nsteps = int(tfinal/dt)\n",
    "for n in tqdm(range(Nsteps)):\n",
    "    X = np.gradient(rcs*rhod, rcs)\n",
    "    rhs = np.gradient(Dd * X, rcs)/rcs\n",
    "    rhs = rhs.decompose()\n",
    "    rhod += (dt*rhs).decompose().value\n",
    "    \n",
    "    t += dt\n",
    "\n",
    "ax.plot(rcs, rhod, label = f\"t={t:.3g}\")\n",
    "    \n",
    "\n",
    "ax.legend()\n",
    "ax.set_yscale(\"log\")\n",
    "ax.set_ylim(bottom=1e-3, top=1)"
   ]
  },
  {
   "cell_type": "code",
   "execution_count": 33,
   "metadata": {},
   "outputs": [
    {
     "name": "stderr",
     "output_type": "stream",
     "text": [
      "  0%|          | 0/10 [00:00<?, ?it/s]/usr/lib/python3/dist-packages/numpy/lib/function_base.py:1084: RuntimeWarning: divide by zero encountered in true_divide\n",
      "  a = -(dx2)/(dx1 * (dx1 + dx2))\n",
      "/usr/lib/python3/dist-packages/numpy/lib/function_base.py:1085: RuntimeWarning: divide by zero encountered in true_divide\n",
      "  b = (dx2 - dx1) / (dx1 * dx2)\n",
      "/usr/lib/python3/dist-packages/numpy/lib/function_base.py:1086: RuntimeWarning: divide by zero encountered in true_divide\n",
      "  c = dx1 / (dx2 * (dx1 + dx2))\n",
      "/usr/lib/python3/dist-packages/numpy/lib/function_base.py:1092: RuntimeWarning: invalid value encountered in add\n",
      "  out[tuple(slice1)] = a * f[tuple(slice2)] + b * f[tuple(slice3)] + c * f[tuple(slice4)]\n",
      "/usr/lib/python3/dist-packages/numpy/lib/function_base.py:1084: RuntimeWarning: divide by zero encountered in true_divide\n",
      "  a = -(dx2)/(dx1 * (dx1 + dx2))\n",
      "/usr/lib/python3/dist-packages/numpy/lib/function_base.py:1085: RuntimeWarning: divide by zero encountered in true_divide\n",
      "  b = (dx2 - dx1) / (dx1 * dx2)\n",
      "/usr/lib/python3/dist-packages/numpy/lib/function_base.py:1086: RuntimeWarning: divide by zero encountered in true_divide\n",
      "  c = dx1 / (dx2 * (dx1 + dx2))\n",
      "/usr/lib/python3/dist-packages/numpy/lib/function_base.py:1092: RuntimeWarning: overflow encountered in multiply\n",
      "  out[tuple(slice1)] = a * f[tuple(slice2)] + b * f[tuple(slice3)] + c * f[tuple(slice4)]\n",
      "/usr/lib/python3/dist-packages/numpy/lib/function_base.py:1092: RuntimeWarning: overflow encountered in add\n",
      "  out[tuple(slice1)] = a * f[tuple(slice2)] + b * f[tuple(slice3)] + c * f[tuple(slice4)]\n",
      "/usr/lib/python3/dist-packages/numpy/lib/function_base.py:1092: RuntimeWarning: invalid value encountered in add\n",
      "  out[tuple(slice1)] = a * f[tuple(slice2)] + b * f[tuple(slice3)] + c * f[tuple(slice4)]\n",
      "/usr/lib/python3/dist-packages/numpy/lib/function_base.py:1092: RuntimeWarning: invalid value encountered in multiply\n",
      "  out[tuple(slice1)] = a * f[tuple(slice2)] + b * f[tuple(slice3)] + c * f[tuple(slice4)]\n",
      " 10%|█         | 1/10 [00:01<00:09,  1.08s/it]/usr/lib/python3/dist-packages/numpy/lib/function_base.py:1084: RuntimeWarning: divide by zero encountered in true_divide\n",
      "  a = -(dx2)/(dx1 * (dx1 + dx2))\n",
      "/usr/lib/python3/dist-packages/numpy/lib/function_base.py:1085: RuntimeWarning: divide by zero encountered in true_divide\n",
      "  b = (dx2 - dx1) / (dx1 * dx2)\n",
      "/usr/lib/python3/dist-packages/numpy/lib/function_base.py:1086: RuntimeWarning: divide by zero encountered in true_divide\n",
      "  c = dx1 / (dx2 * (dx1 + dx2))\n",
      " 20%|██        | 2/10 [00:02<00:08,  1.09s/it]/usr/lib/python3/dist-packages/numpy/lib/function_base.py:1084: RuntimeWarning: divide by zero encountered in true_divide\n",
      "  a = -(dx2)/(dx1 * (dx1 + dx2))\n",
      "/usr/lib/python3/dist-packages/numpy/lib/function_base.py:1085: RuntimeWarning: divide by zero encountered in true_divide\n",
      "  b = (dx2 - dx1) / (dx1 * dx2)\n",
      "/usr/lib/python3/dist-packages/numpy/lib/function_base.py:1086: RuntimeWarning: divide by zero encountered in true_divide\n",
      "  c = dx1 / (dx2 * (dx1 + dx2))\n",
      " 30%|███       | 3/10 [00:03<00:07,  1.06s/it]/usr/lib/python3/dist-packages/numpy/lib/function_base.py:1084: RuntimeWarning: divide by zero encountered in true_divide\n",
      "  a = -(dx2)/(dx1 * (dx1 + dx2))\n",
      "/usr/lib/python3/dist-packages/numpy/lib/function_base.py:1085: RuntimeWarning: divide by zero encountered in true_divide\n",
      "  b = (dx2 - dx1) / (dx1 * dx2)\n",
      "/usr/lib/python3/dist-packages/numpy/lib/function_base.py:1086: RuntimeWarning: divide by zero encountered in true_divide\n",
      "  c = dx1 / (dx2 * (dx1 + dx2))\n",
      " 40%|████      | 4/10 [00:04<00:06,  1.03s/it]/usr/lib/python3/dist-packages/numpy/lib/function_base.py:1084: RuntimeWarning: divide by zero encountered in true_divide\n",
      "  a = -(dx2)/(dx1 * (dx1 + dx2))\n",
      "/usr/lib/python3/dist-packages/numpy/lib/function_base.py:1085: RuntimeWarning: divide by zero encountered in true_divide\n",
      "  b = (dx2 - dx1) / (dx1 * dx2)\n",
      "/usr/lib/python3/dist-packages/numpy/lib/function_base.py:1086: RuntimeWarning: divide by zero encountered in true_divide\n",
      "  c = dx1 / (dx2 * (dx1 + dx2))\n",
      " 50%|█████     | 5/10 [00:05<00:05,  1.02s/it]/usr/lib/python3/dist-packages/numpy/lib/function_base.py:1084: RuntimeWarning: divide by zero encountered in true_divide\n",
      "  a = -(dx2)/(dx1 * (dx1 + dx2))\n",
      "/usr/lib/python3/dist-packages/numpy/lib/function_base.py:1085: RuntimeWarning: divide by zero encountered in true_divide\n",
      "  b = (dx2 - dx1) / (dx1 * dx2)\n",
      "/usr/lib/python3/dist-packages/numpy/lib/function_base.py:1086: RuntimeWarning: divide by zero encountered in true_divide\n",
      "  c = dx1 / (dx2 * (dx1 + dx2))\n",
      " 60%|██████    | 6/10 [00:06<00:04,  1.00s/it]/usr/lib/python3/dist-packages/numpy/lib/function_base.py:1084: RuntimeWarning: divide by zero encountered in true_divide\n",
      "  a = -(dx2)/(dx1 * (dx1 + dx2))\n",
      "/usr/lib/python3/dist-packages/numpy/lib/function_base.py:1085: RuntimeWarning: divide by zero encountered in true_divide\n",
      "  b = (dx2 - dx1) / (dx1 * dx2)\n",
      "/usr/lib/python3/dist-packages/numpy/lib/function_base.py:1086: RuntimeWarning: divide by zero encountered in true_divide\n",
      "  c = dx1 / (dx2 * (dx1 + dx2))\n",
      " 70%|███████   | 7/10 [00:07<00:03,  1.01s/it]/usr/lib/python3/dist-packages/numpy/lib/function_base.py:1084: RuntimeWarning: divide by zero encountered in true_divide\n",
      "  a = -(dx2)/(dx1 * (dx1 + dx2))\n",
      "/usr/lib/python3/dist-packages/numpy/lib/function_base.py:1085: RuntimeWarning: divide by zero encountered in true_divide\n",
      "  b = (dx2 - dx1) / (dx1 * dx2)\n",
      "/usr/lib/python3/dist-packages/numpy/lib/function_base.py:1086: RuntimeWarning: divide by zero encountered in true_divide\n",
      "  c = dx1 / (dx2 * (dx1 + dx2))\n",
      " 70%|███████   | 7/10 [00:07<00:03,  1.05s/it]\n"
     ]
    },
    {
     "ename": "KeyboardInterrupt",
     "evalue": "",
     "output_type": "error",
     "traceback": [
      "\u001b[0;31m---------------------------------------------------------------------------\u001b[0m",
      "\u001b[0;31mKeyboardInterrupt\u001b[0m                         Traceback (most recent call last)",
      "\u001b[1;32m/home/rometsch/repo/fargo/fargocpt/test/dust_diffusion/analytical.ipynb Cell 4\u001b[0m in \u001b[0;36m<cell line: 22>\u001b[0;34m()\u001b[0m\n\u001b[1;32m     <a href='vscode-notebook-cell:/home/rometsch/repo/fargo/fargocpt/test/dust_diffusion/analytical.ipynb#W2sZmlsZQ%3D%3D?line=22'>23</a>\u001b[0m \u001b[39mwhile\u001b[39;00m t \u001b[39m<\u001b[39m times_save[n\u001b[39m+\u001b[39m\u001b[39m1\u001b[39m]:\n\u001b[1;32m     <a href='vscode-notebook-cell:/home/rometsch/repo/fargo/fargocpt/test/dust_diffusion/analytical.ipynb#W2sZmlsZQ%3D%3D?line=24'>25</a>\u001b[0m     X \u001b[39m=\u001b[39m np\u001b[39m.\u001b[39mgradient(rcs\u001b[39m*\u001b[39mrhod, rcs)\n\u001b[0;32m---> <a href='vscode-notebook-cell:/home/rometsch/repo/fargo/fargocpt/test/dust_diffusion/analytical.ipynb#W2sZmlsZQ%3D%3D?line=25'>26</a>\u001b[0m     rhs \u001b[39m=\u001b[39m np\u001b[39m.\u001b[39;49mgradient(Dd \u001b[39m*\u001b[39;49m X, rcs)\u001b[39m/\u001b[39mrcs\n\u001b[1;32m     <a href='vscode-notebook-cell:/home/rometsch/repo/fargo/fargocpt/test/dust_diffusion/analytical.ipynb#W2sZmlsZQ%3D%3D?line=26'>27</a>\u001b[0m     rhs \u001b[39m=\u001b[39m rhs\u001b[39m.\u001b[39mdecompose()\n\u001b[1;32m     <a href='vscode-notebook-cell:/home/rometsch/repo/fargo/fargocpt/test/dust_diffusion/analytical.ipynb#W2sZmlsZQ%3D%3D?line=27'>28</a>\u001b[0m     rhod \u001b[39m+\u001b[39m\u001b[39m=\u001b[39m (dt\u001b[39m*\u001b[39mrhs)\u001b[39m.\u001b[39mdecompose()\u001b[39m.\u001b[39mvalue\n",
      "File \u001b[0;32m<__array_function__ internals>:5\u001b[0m, in \u001b[0;36mgradient\u001b[0;34m(*args, **kwargs)\u001b[0m\n",
      "File \u001b[0;32m~/.local/lib/python3.10/site-packages/astropy/units/quantity.py:1705\u001b[0m, in \u001b[0;36mQuantity.__array_function__\u001b[0;34m(self, function, types, args, kwargs)\u001b[0m\n\u001b[1;32m   1702\u001b[0m     \u001b[39mexcept\u001b[39;00m \u001b[39mNotImplementedError\u001b[39;00m:\n\u001b[1;32m   1703\u001b[0m         \u001b[39mreturn\u001b[39;00m \u001b[39mself\u001b[39m\u001b[39m.\u001b[39m_not_implemented_or_raise(function, types)\n\u001b[0;32m-> 1705\u001b[0m     result \u001b[39m=\u001b[39m \u001b[39msuper\u001b[39;49m()\u001b[39m.\u001b[39;49m__array_function__(function, types, args, kwargs)\n\u001b[1;32m   1706\u001b[0m     \u001b[39m# Fall through to return section\u001b[39;00m\n\u001b[1;32m   1708\u001b[0m \u001b[39melif\u001b[39;00m function \u001b[39min\u001b[39;00m DISPATCHED_FUNCTIONS:\n",
      "File \u001b[0;32m/usr/lib/python3/dist-packages/numpy/lib/function_base.py:1092\u001b[0m, in \u001b[0;36mgradient\u001b[0;34m(f, axis, edge_order, *varargs)\u001b[0m\n\u001b[1;32m   1090\u001b[0m     a\u001b[39m.\u001b[39mshape \u001b[39m=\u001b[39m b\u001b[39m.\u001b[39mshape \u001b[39m=\u001b[39m c\u001b[39m.\u001b[39mshape \u001b[39m=\u001b[39m shape\n\u001b[1;32m   1091\u001b[0m     \u001b[39m# 1D equivalent -- out[1:-1] = a * f[:-2] + b * f[1:-1] + c * f[2:]\u001b[39;00m\n\u001b[0;32m-> 1092\u001b[0m     out[\u001b[39mtuple\u001b[39m(slice1)] \u001b[39m=\u001b[39m a \u001b[39m*\u001b[39m f[\u001b[39mtuple\u001b[39m(slice2)] \u001b[39m+\u001b[39m b \u001b[39m*\u001b[39m f[\u001b[39mtuple\u001b[39m(slice3)] \u001b[39m+\u001b[39m c \u001b[39m*\u001b[39m f[\u001b[39mtuple\u001b[39;49m(slice4)]\n\u001b[1;32m   1094\u001b[0m \u001b[39m# Numerical differentiation: 1st order edges\u001b[39;00m\n\u001b[1;32m   1095\u001b[0m \u001b[39mif\u001b[39;00m edge_order \u001b[39m==\u001b[39m \u001b[39m1\u001b[39m:\n",
      "\u001b[0;31mKeyboardInterrupt\u001b[0m: "
     ]
    },
    {
     "data": {
      "image/png": "[encoded data removed]",
      "text/plain": [
       "<Figure size 432x288 with 1 Axes>"
      ]
     },
     "metadata": {
      "needs_background": "light"
     },
     "output_type": "display_data"
    }
   ],
   "source": [
    "rhod = np.exp(- 0.5*(rcs.to_value(\"au\") - 10)**2/(0.01**2))\n",
    "\n",
    "t = 0*u.yr\n",
    "dt = 0.1*u.yr\n",
    "tfinal = 1000*u.yr\n",
    "\n",
    "t_save = 100*u.yr\n",
    "N_save = int((tfinal / t_save).decompose()) + 1\n",
    "times_save = np.linspace(0, tfinal, N_save)\n",
    "saves = np.zeros((len(times_save), Ncells))\n",
    "\n",
    "\n",
    "fig, ax = plt.subplots()\n",
    "\n",
    "ax.plot(rcs, rhod, label = \"t = 0 yr\")\n",
    "\n",
    "nplot = 0\n",
    "\n",
    "saves[0] = rhod\n",
    "\n",
    "\n",
    "for n in tqdm(range(N_save-1)):\n",
    "    while t < times_save[n+1]:\n",
    "        \n",
    "        X = np.gradient(rcs*rhod, rcs)\n",
    "        rhs = np.gradient(Dd * X, rcs)/rcs\n",
    "        rhs = rhs.decompose()\n",
    "        rhod += (dt*rhs).decompose().value\n",
    "        \n",
    "        t += dt\n",
    "        \n",
    "        if t > nplot*tfinal/10:\n",
    "            ax.plot(rcs, rhod, label = f\"t={t:.3g}\")\n",
    "            nplot += 1\n",
    "    \n",
    "    saves[n+1] = rhod\n",
    "\n",
    "ax.legend()\n",
    "ax.set_yscale(\"log\")\n",
    "ax.set_ylim(bottom=1e-3, top=1)"
   ]
  },
  {
   "cell_type": "code",
   "execution_count": 18,
   "metadata": {},
   "outputs": [
    {
     "data": {
      "text/plain": [
       "(0.0, 20.0)"
      ]
     },
     "execution_count": 18,
     "metadata": {},
     "output_type": "execute_result"
    },
    {
     "data": {
      "image/png": "[encoded data removed]",
      "text/plain": [
       "<Figure size 432x288 with 1 Axes>"
      ]
     },
     "metadata": {
      "needs_background": "light"
     },
     "output_type": "display_data"
    }
   ],
   "source": [
    "fig, ax = plt.subplots()\n",
    "\n",
    "times = times_save.to_value(\"yr\")\n",
    "\n",
    "tplot = 500\n",
    "n = np.argmin(np.abs(times - tplot))\n",
    "ax.plot(rcs, saves[n], label = f\"t={times[n]}\")\n",
    "\n",
    "tplot = 1000\n",
    "n = np.argmin(np.abs(times - tplot))\n",
    "ax.plot(rcs, saves[n], label = f\"t={times[n]}\")\n",
    "\n",
    "ax.set_yscale(\"log\")\n",
    "ax.set_ylim(bottom=1e-3,top=1)\n",
    "ax.legend(loc=\"best\")\n",
    "ax.set_xlim(left=0, right=20)"
   ]
  },
  {
   "cell_type": "code",
   "execution_count": 15,
   "metadata": {},
   "outputs": [
    {
     "data": {
      "text/plain": [
       "(0.0, 20.0)"
      ]
     },
     "execution_count": 15,
     "metadata": {},
     "output_type": "execute_result"
    },
    {
     "data": {
      "image/png": "[encoded data removed]",
      "text/plain": [
       "<Figure size 432x288 with 1 Axes>"
      ]
     },
     "metadata": {
      "needs_background": "light"
     },
     "output_type": "display_data"
    }
   ],
   "source": [
    "fig, ax = plt.subplots()\n",
    "\n",
    "times = times_save.to_value(\"yr\")\n",
    "\n",
    "tplot = 2500\n",
    "n = np.argmin(np.abs(times - tplot))\n",
    "ax.plot(rcs, saves[n], label = f\"t={times[n]}\")\n",
    "\n",
    "tplot = 5000\n",
    "n = np.argmin(np.abs(times - tplot))\n",
    "ax.plot(rcs, saves[n], label = f\"t={times[n]}\")\n",
    "\n",
    "ax.set_yscale(\"log\")\n",
    "ax.set_ylim(bottom=1e-3,top=1)\n",
    "ax.legend(loc=\"best\")\n",
    "ax.set_xlim(left=0, right=20)"
   ]
  },
  {
   "cell_type": "code",
   "execution_count": 170,
   "metadata": {},
   "outputs": [],
   "source": [
    "np.save(\"analytic_profiles\", saves)\n",
    "np.save(\"analytic_times\", times_save.to_value(\"yr\"))\n",
    "np.save(\"analytic_radii\", rcs.to_value(\"au\"))"
   ]
  },
  {
   "cell_type": "code",
   "execution_count": 171,
   "metadata": {},
   "outputs": [],
   "source": [
    "ls = np.load(\"analytic_profiles.npy\")\n",
    "lt = np.load(\"analytic_times.npy\")\n",
    "lr = np.load(\"analytic_radii.npy\")"
   ]
  },
  {
   "cell_type": "code",
   "execution_count": null,
   "metadata": {},
   "outputs": [
    {
     "data": {
      "text/plain": [
       "(0.0, 20.0)"
      ]
     },
     "metadata": {},
     "output_type": "display_data"
    },
    {
     "data": {
      "image/png": "[encoded data removed]",
      "text/plain": [
       "<Figure size 432x288 with 1 Axes>"
      ]
     },
     "metadata": {},
     "output_type": "display_data"
    }
   ],
   "source": [
    "fig, ax = plt.subplots()\n",
    "\n",
    "tplot = 2500\n",
    "n = np.argmin(np.abs(lt - tplot))\n",
    "ax.plot(rcs, ls[n], label = f\"t={lt[n]}\")\n",
    "\n",
    "tplot = 5000\n",
    "n = np.argmin(np.abs(lt - tplot))\n",
    "ax.plot(rcs, ls[n], label = f\"t={lt[n]}\")\n",
    "\n",
    "ax.set_yscale(\"log\")\n",
    "ax.set_ylim(bottom=1e-3,top=1)\n",
    "ax.legend(loc=\"best\")\n",
    "ax.set_xlim(left=0, right=20)"
   ]
  },
  {
   "cell_type": "code",
   "execution_count": 158,
   "metadata": {},
   "outputs": [
    {
     "data": {
      "text/plain": [
       "array([    0.,   100.,   200.,   300.,   400.,   500.,   600.,   700.,\n",
       "         800.,   900.,  1000.,  1100.,  1200.,  1300.,  1400.,  1500.,\n",
       "        1600.,  1700.,  1800.,  1900.,  2000.,  2100.,  2200.,  2300.,\n",
       "        2400.,  2500.,  2600.,  2700.,  2800.,  2900.,  3000.,  3100.,\n",
       "        3200.,  3300.,  3400.,  3500.,  3600.,  3700.,  3800.,  3900.,\n",
       "        4000.,  4100.,  4200.,  4300.,  4400.,  4500.,  4600.,  4700.,\n",
       "        4800.,  4900.,  5000.,  5100.,  5200.,  5300.,  5400.,  5500.,\n",
       "        5600.,  5700.,  5800.,  5900.,  6000.,  6100.,  6200.,  6300.,\n",
       "        6400.,  6500.,  6600.,  6700.,  6800.,  6900.,  7000.,  7100.,\n",
       "        7200.,  7300.,  7400.,  7500.,  7600.,  7700.,  7800.,  7900.,\n",
       "        8000.,  8100.,  8200.,  8300.,  8400.,  8500.,  8600.,  8700.,\n",
       "        8800.,  8900.,  9000.,  9100.,  9200.,  9300.,  9400.,  9500.,\n",
       "        9600.,  9700.,  9800.,  9900., 10000., 10100., 10200., 10300.,\n",
       "       10400., 10500., 10600., 10700., 10800., 10900., 11000., 11100.,\n",
       "       11200., 11300., 11400., 11500., 11600., 11700., 11800., 11900.,\n",
       "       12000., 12100., 12200., 12300., 12400., 12500., 12600., 12700.,\n",
       "       12800., 12900., 13000., 13100., 13200., 13300., 13400., 13500.,\n",
       "       13600., 13700., 13800., 13900., 14000., 14100., 14200., 14300.,\n",
       "       14400., 14500., 14600., 14700., 14800., 14900., 15000.])"
      ]
     },
     "execution_count": 158,
     "metadata": {},
     "output_type": "execute_result"
    }
   ],
   "source": [
    "lt"
   ]
  },
  {
   "cell_type": "code",
   "execution_count": null,
   "metadata": {},
   "outputs": [],
   "source": []
  }
 ],
 "metadata": {
  "kernelspec": {
   "display_name": "Python 3.10.4 64-bit",
   "language": "python",
   "name": "python3"
  },
  "language_info": {
   "codemirror_mode": {
    "name": "ipython",
    "version": 3
   },
   "file_extension": ".py",
   "mimetype": "text/x-python",
   "name": "python",
   "nbconvert_exporter": "python",
   "pygments_lexer": "ipython3",
   "version": "3.10.4"
  },
  "orig_nbformat": 4,
  "vscode": {
   "interpreter": {
    "hash": "31f2aee4e71d21fbe5cf8b01ff0e069b9275f58929596ceb00d14d90e3e16cd6"
   }
  }
 },
 "nbformat": 4,
 "nbformat_minor": 2
}
